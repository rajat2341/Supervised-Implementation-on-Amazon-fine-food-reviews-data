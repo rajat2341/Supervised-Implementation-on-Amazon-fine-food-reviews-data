{
 "cells": [
  {
   "cell_type": "code",
   "execution_count": 39,
   "metadata": {},
   "outputs": [
    {
     "name": "stderr",
     "output_type": "stream",
     "text": [
      "[nltk_data] Downloading package stopwords to\n",
      "[nltk_data]     C:\\Users\\rajat\\AppData\\Roaming\\nltk_data...\n",
      "[nltk_data]   Package stopwords is already up-to-date!\n"
     ]
    }
   ],
   "source": [
    "import pandas as pd\n",
    "import numpy as np\n",
    "import matplotlib.pyplot as plt\n",
    "%matplotlib inline\n",
    "import seaborn as sns\n",
    "sns.set()\n",
    "import warnings\n",
    "warnings.filterwarnings(\"ignore\")\n",
    "import nltk\n",
    "nltk.download('stopwords')\n",
    "from nltk.corpus import stopwords\n",
    "from nltk.stem import PorterStemmer\n",
    "from sklearn.feature_extraction.text import CountVectorizer         \n",
    "from sklearn.feature_extraction.text import TfidfVectorizer     \n",
    "import gensim"
   ]
  },
  {
   "cell_type": "code",
   "execution_count": 2,
   "metadata": {},
   "outputs": [],
   "source": [
    "import time\n",
    "import pickle"
   ]
  },
  {
   "cell_type": "code",
   "execution_count": 216,
   "metadata": {},
   "outputs": [],
   "source": [
    "data = pd.read_csv(\"data/Reviews.csv\")"
   ]
  },
  {
   "cell_type": "code",
   "execution_count": 217,
   "metadata": {},
   "outputs": [
    {
     "data": {
      "text/html": [
       "<div>\n",
       "<style scoped>\n",
       "    .dataframe tbody tr th:only-of-type {\n",
       "        vertical-align: middle;\n",
       "    }\n",
       "\n",
       "    .dataframe tbody tr th {\n",
       "        vertical-align: top;\n",
       "    }\n",
       "\n",
       "    .dataframe thead th {\n",
       "        text-align: right;\n",
       "    }\n",
       "</style>\n",
       "<table border=\"1\" class=\"dataframe\">\n",
       "  <thead>\n",
       "    <tr style=\"text-align: right;\">\n",
       "      <th></th>\n",
       "      <th>Id</th>\n",
       "      <th>ProductId</th>\n",
       "      <th>UserId</th>\n",
       "      <th>ProfileName</th>\n",
       "      <th>HelpfulnessNumerator</th>\n",
       "      <th>HelpfulnessDenominator</th>\n",
       "      <th>Score</th>\n",
       "      <th>Time</th>\n",
       "      <th>Summary</th>\n",
       "      <th>Text</th>\n",
       "    </tr>\n",
       "  </thead>\n",
       "  <tbody>\n",
       "    <tr>\n",
       "      <th>0</th>\n",
       "      <td>1</td>\n",
       "      <td>B001E4KFG0</td>\n",
       "      <td>A3SGXH7AUHU8GW</td>\n",
       "      <td>delmartian</td>\n",
       "      <td>1</td>\n",
       "      <td>1</td>\n",
       "      <td>5</td>\n",
       "      <td>1303862400</td>\n",
       "      <td>Good Quality Dog Food</td>\n",
       "      <td>I have bought several of the Vitality canned d...</td>\n",
       "    </tr>\n",
       "    <tr>\n",
       "      <th>1</th>\n",
       "      <td>2</td>\n",
       "      <td>B00813GRG4</td>\n",
       "      <td>A1D87F6ZCVE5NK</td>\n",
       "      <td>dll pa</td>\n",
       "      <td>0</td>\n",
       "      <td>0</td>\n",
       "      <td>1</td>\n",
       "      <td>1346976000</td>\n",
       "      <td>Not as Advertised</td>\n",
       "      <td>Product arrived labeled as Jumbo Salted Peanut...</td>\n",
       "    </tr>\n",
       "    <tr>\n",
       "      <th>2</th>\n",
       "      <td>3</td>\n",
       "      <td>B000LQOCH0</td>\n",
       "      <td>ABXLMWJIXXAIN</td>\n",
       "      <td>Natalia Corres \"Natalia Corres\"</td>\n",
       "      <td>1</td>\n",
       "      <td>1</td>\n",
       "      <td>4</td>\n",
       "      <td>1219017600</td>\n",
       "      <td>\"Delight\" says it all</td>\n",
       "      <td>This is a confection that has been around a fe...</td>\n",
       "    </tr>\n",
       "    <tr>\n",
       "      <th>3</th>\n",
       "      <td>4</td>\n",
       "      <td>B000UA0QIQ</td>\n",
       "      <td>A395BORC6FGVXV</td>\n",
       "      <td>Karl</td>\n",
       "      <td>3</td>\n",
       "      <td>3</td>\n",
       "      <td>2</td>\n",
       "      <td>1307923200</td>\n",
       "      <td>Cough Medicine</td>\n",
       "      <td>If you are looking for the secret ingredient i...</td>\n",
       "    </tr>\n",
       "    <tr>\n",
       "      <th>4</th>\n",
       "      <td>5</td>\n",
       "      <td>B006K2ZZ7K</td>\n",
       "      <td>A1UQRSCLF8GW1T</td>\n",
       "      <td>Michael D. Bigham \"M. Wassir\"</td>\n",
       "      <td>0</td>\n",
       "      <td>0</td>\n",
       "      <td>5</td>\n",
       "      <td>1350777600</td>\n",
       "      <td>Great taffy</td>\n",
       "      <td>Great taffy at a great price.  There was a wid...</td>\n",
       "    </tr>\n",
       "  </tbody>\n",
       "</table>\n",
       "</div>"
      ],
      "text/plain": [
       "   Id   ProductId          UserId                      ProfileName  \\\n",
       "0   1  B001E4KFG0  A3SGXH7AUHU8GW                       delmartian   \n",
       "1   2  B00813GRG4  A1D87F6ZCVE5NK                           dll pa   \n",
       "2   3  B000LQOCH0   ABXLMWJIXXAIN  Natalia Corres \"Natalia Corres\"   \n",
       "3   4  B000UA0QIQ  A395BORC6FGVXV                             Karl   \n",
       "4   5  B006K2ZZ7K  A1UQRSCLF8GW1T    Michael D. Bigham \"M. Wassir\"   \n",
       "\n",
       "   HelpfulnessNumerator  HelpfulnessDenominator  Score        Time  \\\n",
       "0                     1                       1      5  1303862400   \n",
       "1                     0                       0      1  1346976000   \n",
       "2                     1                       1      4  1219017600   \n",
       "3                     3                       3      2  1307923200   \n",
       "4                     0                       0      5  1350777600   \n",
       "\n",
       "                 Summary                                               Text  \n",
       "0  Good Quality Dog Food  I have bought several of the Vitality canned d...  \n",
       "1      Not as Advertised  Product arrived labeled as Jumbo Salted Peanut...  \n",
       "2  \"Delight\" says it all  This is a confection that has been around a fe...  \n",
       "3         Cough Medicine  If you are looking for the secret ingredient i...  \n",
       "4            Great taffy  Great taffy at a great price.  There was a wid...  "
      ]
     },
     "execution_count": 217,
     "metadata": {},
     "output_type": "execute_result"
    }
   ],
   "source": [
    "data.head()"
   ]
  },
  {
   "cell_type": "code",
   "execution_count": 218,
   "metadata": {},
   "outputs": [
    {
     "data": {
      "text/plain": [
       "Index(['Id', 'ProductId', 'UserId', 'ProfileName', 'HelpfulnessNumerator',\n",
       "       'HelpfulnessDenominator', 'Score', 'Time', 'Summary', 'Text'],\n",
       "      dtype='object')"
      ]
     },
     "execution_count": 218,
     "metadata": {},
     "output_type": "execute_result"
    }
   ],
   "source": [
    "data.columns"
   ]
  },
  {
   "cell_type": "code",
   "execution_count": 219,
   "metadata": {},
   "outputs": [
    {
     "data": {
      "text/plain": [
       "(568454, 10)"
      ]
     },
     "execution_count": 219,
     "metadata": {},
     "output_type": "execute_result"
    }
   ],
   "source": [
    "data.shape"
   ]
  },
  {
   "cell_type": "code",
   "execution_count": 220,
   "metadata": {},
   "outputs": [],
   "source": [
    "data = data[data['Score'] != 3]"
   ]
  },
  {
   "cell_type": "code",
   "execution_count": 221,
   "metadata": {},
   "outputs": [
    {
     "data": {
      "text/plain": [
       "array([5, 1, 4, 2])"
      ]
     },
     "execution_count": 221,
     "metadata": {},
     "output_type": "execute_result"
    }
   ],
   "source": [
    "data.Score.unique()"
   ]
  },
  {
   "cell_type": "code",
   "execution_count": 222,
   "metadata": {},
   "outputs": [
    {
     "data": {
      "text/plain": [
       "5    363122\n",
       "4     80655\n",
       "1     52268\n",
       "2     29769\n",
       "Name: Score, dtype: int64"
      ]
     },
     "execution_count": 222,
     "metadata": {},
     "output_type": "execute_result"
    }
   ],
   "source": [
    "data['Score'].value_counts()"
   ]
  },
  {
   "cell_type": "code",
   "execution_count": 223,
   "metadata": {},
   "outputs": [],
   "source": [
    "def partition(x):\n",
    "    if x < 3:\n",
    "        return 'negative'\n",
    "    return 'positive'\n",
    "\n",
    "score = data['Score']\n",
    "temp = score.map(partition)\n",
    "data['Score'] = temp"
   ]
  },
  {
   "cell_type": "code",
   "execution_count": 224,
   "metadata": {},
   "outputs": [],
   "source": [
    "data = data.drop_duplicates(subset={\"UserId\",\"ProfileName\",\"Time\",\"Text\"})"
   ]
  },
  {
   "cell_type": "code",
   "execution_count": 225,
   "metadata": {},
   "outputs": [],
   "source": [
    "data = data[data['HelpfulnessNumerator'] <= data['HelpfulnessDenominator']]"
   ]
  },
  {
   "cell_type": "code",
   "execution_count": 226,
   "metadata": {},
   "outputs": [],
   "source": [
    "data = data.iloc[:100000,:]"
   ]
  },
  {
   "cell_type": "code",
   "execution_count": 227,
   "metadata": {},
   "outputs": [],
   "source": [
    "data_X = data['Text']\n",
    "data_Y = data['Score']"
   ]
  },
  {
   "cell_type": "code",
   "execution_count": 228,
   "metadata": {},
   "outputs": [
    {
     "data": {
      "text/plain": [
       "'negative'"
      ]
     },
     "execution_count": 228,
     "metadata": {},
     "output_type": "execute_result"
    }
   ],
   "source": [
    "data_Y.values[1]"
   ]
  },
  {
   "cell_type": "code",
   "execution_count": 229,
   "metadata": {},
   "outputs": [
    {
     "name": "stdout",
     "output_type": "stream",
     "text": [
      "{'being', 'through', 'now', 'where', 'be', 'very', \"weren't\", \"don't\", 'hadn', 'were', 'didn', 'for', 'yours', 'couldn', 'of', 'these', 'ourselves', 'at', 'mightn', 'myself', 'ours', 'him', 'by', \"it's\", 'haven', 'doesn', \"wasn't\", 'in', 'll', 'further', 'won', 'all', 'them', 'whom', 'had', 'and', 'my', 'when', 'those', 'into', 'nor', 'an', 'only', \"should've\", \"shan't\", 'am', 'own', 'between', 'their', 'i', 'same', 'so', 'm', 'y', 'does', 'itself', \"shouldn't\", \"aren't\", 'from', 'd', 'most', 'yourselves', 'has', 'did', 'such', 'weren', 'it', 'theirs', 'up', 'some', \"mightn't\", 'out', 'more', \"isn't\", \"you're\", 'who', 'wasn', 'after', 'we', 'against', 't', 'themselves', 'how', 'than', 're', 'her', 'can', 'any', \"needn't\", 'our', 'not', \"mustn't\", 'over', 'should', \"that'll\", 'just', 'isn', 'is', 'during', \"doesn't\", 'until', 'while', 'as', 'what', \"she's\", 'ma', 'about', \"couldn't\", 'under', \"you'll\", 'the', 'each', 'don', 'his', 'are', 've', 'shan', \"you've\", 'this', 's', 'was', \"wouldn't\", 'doing', 'below', 'ain', 'that', 'if', 'having', 'your', 'then', 'there', 'why', 'me', 'once', 'o', 'down', 'which', 'both', 'or', 'too', 'yourself', 'above', 'but', 'a', 'off', \"hasn't\", 'on', \"haven't\", 'herself', 'because', 'have', 'himself', 'will', 'here', 'again', \"didn't\", 'been', 'do', 'needn', 'they', \"won't\", 'he', 'its', 'no', \"hadn't\", 'mustn', 'few', 'hers', 'aren', 'other', \"you'd\", 'to', 'hasn', 'before', 'wouldn', 'shouldn', 'you', 'she', 'with'}\n"
     ]
    }
   ],
   "source": [
    "print(set(stopwords.words('english')))"
   ]
  },
  {
   "cell_type": "code",
   "execution_count": 12,
   "metadata": {},
   "outputs": [],
   "source": [
    "import re\n",
    "snow = nltk.stem.SnowballStemmer('english')\n",
    "stop = set(stopwords.words('english'))\n",
    "\n",
    "def cleanhtml(sentence):\n",
    "    sentence = sentence.lower()                                       # Converting to lowercase\n",
    "    cleanr = re.compile('<.*?>')\n",
    "    sentence = re.sub(cleanr, ' ', sentence)                          # Cleaning Html tags\n",
    "    \n",
    "    return sentence\n",
    "\n",
    "def cleanpunc(sentence):\n",
    "    sentence = re.sub('[^A-Za-z0-9]+', '', sentence)                # Cleaning punctuations\n",
    "    \n",
    "    return sentence"
   ]
  },
  {
   "cell_type": "code",
   "execution_count": 231,
   "metadata": {},
   "outputs": [],
   "source": [
    "temp = []\n",
    "str1 = ''\n",
    "positive_words = []\n",
    "negative_words = []\n",
    "i = 0\n",
    "for sentence in data_X:\n",
    "    words = []\n",
    "    sentence = cleanhtml(sentence)\n",
    "    for word in sentence.split():\n",
    "        word = cleanpunc(word)\n",
    "        if((word.isalpha()) & (len(word) > 2)): \n",
    "            if word not in stop:\n",
    "                s = snow.stem(word).encode('utf8')\n",
    "                words.append(s)\n",
    "                if (data_Y.values)[i] == 'positive': \n",
    "                    positive_words.append(s) #list of all words used to describe positive reviews.\n",
    "                if(data_Y.values)[i] == 'negative':\n",
    "                    negative_words.append(s) #list of all words used to describe negative reviews.\n",
    "            else:\n",
    "                continue\n",
    "        else:\n",
    "                continue\n",
    "    str1 = b\" \".join(words)\n",
    "    temp.append(str1)\n",
    "    i += 1"
   ]
  },
  {
   "cell_type": "code",
   "execution_count": 261,
   "metadata": {},
   "outputs": [
    {
     "data": {
      "text/plain": [
       "[b'bought sever vital can dog food product found good qualiti product look like stew process meat smell better labrador finicki appreci product better',\n",
       " b'product arriv label jumbo salt peanutsth peanut actual small size unsalt sure error vendor intend repres product jumbo',\n",
       " b'confect around centuri light pillowi citrus gelatin nut case filbert cut tini squar liber coat powder sugar tini mouth heaven chewi flavor high recommend yummi treat familiar stori lewi lion witch wardrob treat seduc edmund sell brother sister witch',\n",
       " b'look secret ingredi robitussin believ found got addit root beer extract order good made cherri soda flavor medicin',\n",
       " b'great taffi great price wide assort yummi taffi deliveri quick taffi lover deal',\n",
       " b'got wild hair taffi order five pound bag taffi enjoy mani flavor watermelon root beer melon peppermint grape etc complaint bit much redblack licoriceflavor piec particular favorit kid husband last two week would recommend brand taffi delight treat',\n",
       " b'saltwat taffi great flavor soft chewi candi individu wrap well none candi stuck togeth happen expens version fraling would high recommend candi serv beachthem parti everyon love',\n",
       " b'taffi good soft chewi flavor amaz would definit recommend buy satisfi',\n",
       " b'right most sprout cat eat grass love rotat around wheatgrass rye',\n",
       " b'healthi dog food good digest also good small puppi dog eat requir amount everi feed']"
      ]
     },
     "execution_count": 261,
     "metadata": {},
     "output_type": "execute_result"
    }
   ],
   "source": [
    "temp[:10]"
   ]
  },
  {
   "cell_type": "code",
   "execution_count": 262,
   "metadata": {},
   "outputs": [],
   "source": [
    "data_X = temp"
   ]
  },
  {
   "cell_type": "code",
   "execution_count": 263,
   "metadata": {},
   "outputs": [],
   "source": [
    "df = pd.DataFrame(list(zip(data_X, data_Y)), columns = ['Text', 'Sentiment'] )"
   ]
  },
  {
   "cell_type": "code",
   "execution_count": 3,
   "metadata": {},
   "outputs": [
    {
     "ename": "NameError",
     "evalue": "name 'df' is not defined",
     "output_type": "error",
     "traceback": [
      "\u001b[1;31m---------------------------------------------------------------------------\u001b[0m",
      "\u001b[1;31mNameError\u001b[0m                                 Traceback (most recent call last)",
      "\u001b[1;32m<ipython-input-3-9f79dccb8755>\u001b[0m in \u001b[0;36m<module>\u001b[1;34m\u001b[0m\n\u001b[1;32m----> 1\u001b[1;33m \u001b[0mdf\u001b[0m\u001b[1;33m.\u001b[0m\u001b[0mto_pickle\u001b[0m\u001b[1;33m(\u001b[0m\u001b[1;34m'data/cleaned_file.pkl'\u001b[0m\u001b[1;33m)\u001b[0m\u001b[1;33m\u001b[0m\u001b[1;33m\u001b[0m\u001b[0m\n\u001b[0m",
      "\u001b[1;31mNameError\u001b[0m: name 'df' is not defined"
     ]
    }
   ],
   "source": [
    "df.to_pickle('data/cleaned_file.pkl')"
   ]
  },
  {
   "cell_type": "code",
   "execution_count": 4,
   "metadata": {},
   "outputs": [],
   "source": [
    "df = pd.read_pickle('data/cleaned_file.pkl')"
   ]
  },
  {
   "cell_type": "code",
   "execution_count": 5,
   "metadata": {},
   "outputs": [
    {
     "data": {
      "text/html": [
       "<div>\n",
       "<style scoped>\n",
       "    .dataframe tbody tr th:only-of-type {\n",
       "        vertical-align: middle;\n",
       "    }\n",
       "\n",
       "    .dataframe tbody tr th {\n",
       "        vertical-align: top;\n",
       "    }\n",
       "\n",
       "    .dataframe thead th {\n",
       "        text-align: right;\n",
       "    }\n",
       "</style>\n",
       "<table border=\"1\" class=\"dataframe\">\n",
       "  <thead>\n",
       "    <tr style=\"text-align: right;\">\n",
       "      <th></th>\n",
       "      <th>Text</th>\n",
       "      <th>Sentiment</th>\n",
       "    </tr>\n",
       "  </thead>\n",
       "  <tbody>\n",
       "    <tr>\n",
       "      <th>0</th>\n",
       "      <td>b'bought sever vital can dog food product foun...</td>\n",
       "      <td>positive</td>\n",
       "    </tr>\n",
       "    <tr>\n",
       "      <th>1</th>\n",
       "      <td>b'product arriv label jumbo salt peanutsth pea...</td>\n",
       "      <td>negative</td>\n",
       "    </tr>\n",
       "    <tr>\n",
       "      <th>2</th>\n",
       "      <td>b'confect around centuri light pillowi citrus ...</td>\n",
       "      <td>positive</td>\n",
       "    </tr>\n",
       "    <tr>\n",
       "      <th>3</th>\n",
       "      <td>b'look secret ingredi robitussin believ found ...</td>\n",
       "      <td>negative</td>\n",
       "    </tr>\n",
       "    <tr>\n",
       "      <th>4</th>\n",
       "      <td>b'great taffi great price wide assort yummi ta...</td>\n",
       "      <td>positive</td>\n",
       "    </tr>\n",
       "  </tbody>\n",
       "</table>\n",
       "</div>"
      ],
      "text/plain": [
       "                                                Text Sentiment\n",
       "0  b'bought sever vital can dog food product foun...  positive\n",
       "1  b'product arriv label jumbo salt peanutsth pea...  negative\n",
       "2  b'confect around centuri light pillowi citrus ...  positive\n",
       "3  b'look secret ingredi robitussin believ found ...  negative\n",
       "4  b'great taffi great price wide assort yummi ta...  positive"
      ]
     },
     "execution_count": 5,
     "metadata": {},
     "output_type": "execute_result"
    }
   ],
   "source": [
    "df.head()"
   ]
  },
  {
   "cell_type": "code",
   "execution_count": 6,
   "metadata": {},
   "outputs": [
    {
     "data": {
      "text/plain": [
       "b'confect around centuri light pillowi citrus gelatin nut case filbert cut tini squar liber coat powder sugar tini mouth heaven chewi flavor high recommend yummi treat familiar stori lewi lion witch wardrob treat seduc edmund sell brother sister witch'"
      ]
     },
     "execution_count": 6,
     "metadata": {},
     "output_type": "execute_result"
    }
   ],
   "source": [
    "df['Text'][2]"
   ]
  },
  {
   "cell_type": "code",
   "execution_count": 7,
   "metadata": {},
   "outputs": [],
   "source": [
    "X = df[\"Text\"]\n",
    "y = df[\"Sentiment\"]"
   ]
  },
  {
   "cell_type": "code",
   "execution_count": 8,
   "metadata": {},
   "outputs": [
    {
     "data": {
      "text/plain": [
       "((100000, 2), (100000,), (100000,))"
      ]
     },
     "execution_count": 8,
     "metadata": {},
     "output_type": "execute_result"
    }
   ],
   "source": [
    "df.shape, X.shape, y.shape"
   ]
  },
  {
   "cell_type": "markdown",
   "metadata": {},
   "source": [
    "## Word2Vec "
   ]
  },
  {
   "cell_type": "code",
   "execution_count": 9,
   "metadata": {},
   "outputs": [],
   "source": [
    "from gensim.models import Word2Vec\n",
    "import math"
   ]
  },
  {
   "cell_type": "code",
   "execution_count": 10,
   "metadata": {},
   "outputs": [
    {
     "name": "stdout",
     "output_type": "stream",
     "text": [
      "(60000,) (60000,) (20000,) (20000,)\n"
     ]
    }
   ],
   "source": [
    "X_1 = X[:math.ceil(len(df)*0.8)]\n",
    "y_1 = y[:math.ceil(len(df)*0.8)]\n",
    "X_test = X[math.ceil(len(df)*0.8):]\n",
    "y_test = y[math.ceil(len(df)*0.8):]\n",
    "\n",
    "X_train = X_1[:math.ceil(len(df)*0.6)]\n",
    "y_train = y_1[:math.ceil(len(df)*0.6)]\n",
    "X_cv = X_1[math.ceil(len(df)*0.6):]\n",
    "y_cv = y_1[math.ceil(len(df)*0.6):]\n",
    "\n",
    "print(X_train.shape, y_train.shape, X_cv.shape, X_test.shape)"
   ]
  },
  {
   "cell_type": "code",
   "execution_count": 13,
   "metadata": {},
   "outputs": [],
   "source": [
    "list_of_sentence = []\n",
    "for sentence in X_train:\n",
    "    words = []\n",
    "    sentence = sentence.decode('utf-8')\n",
    "    sentence = cleanhtml(sentence)\n",
    "    for word in sentence.split():\n",
    "        word = cleanpunc(word)\n",
    "        if(word.isalpha()):    \n",
    "            words.append(word)\n",
    "        else:\n",
    "            continue \n",
    "    list_of_sentence.append(words)"
   ]
  },
  {
   "cell_type": "code",
   "execution_count": 14,
   "metadata": {},
   "outputs": [
    {
     "name": "stdout",
     "output_type": "stream",
     "text": [
      "[['bought', 'sever', 'vital', 'can', 'dog', 'food', 'product', 'found', 'good', 'qualiti', 'product', 'look', 'like', 'stew', 'process', 'meat', 'smell', 'better', 'labrador', 'finicki', 'appreci', 'product', 'better'], ['product', 'arriv', 'label', 'jumbo', 'salt', 'peanutsth', 'peanut', 'actual', 'small', 'size', 'unsalt', 'sure', 'error', 'vendor', 'intend', 'repres', 'product', 'jumbo'], ['confect', 'around', 'centuri', 'light', 'pillowi', 'citrus', 'gelatin', 'nut', 'case', 'filbert', 'cut', 'tini', 'squar', 'liber', 'coat', 'powder', 'sugar', 'tini', 'mouth', 'heaven', 'chewi', 'flavor', 'high', 'recommend', 'yummi', 'treat', 'familiar', 'stori', 'lewi', 'lion', 'witch', 'wardrob', 'treat', 'seduc', 'edmund', 'sell', 'brother', 'sister', 'witch'], ['look', 'secret', 'ingredi', 'robitussin', 'believ', 'found', 'got', 'addit', 'root', 'beer', 'extract', 'order', 'good', 'made', 'cherri', 'soda', 'flavor', 'medicin'], ['great', 'taffi', 'great', 'price', 'wide', 'assort', 'yummi', 'taffi', 'deliveri', 'quick', 'taffi', 'lover', 'deal']]\n"
     ]
    }
   ],
   "source": [
    "print(list_of_sentence[:5])"
   ]
  },
  {
   "cell_type": "code",
   "execution_count": 15,
   "metadata": {},
   "outputs": [
    {
     "data": {
      "text/plain": [
       "60000"
      ]
     },
     "execution_count": 15,
     "metadata": {},
     "output_type": "execute_result"
    }
   ],
   "source": [
    "len(list_of_sentence)"
   ]
  },
  {
   "cell_type": "code",
   "execution_count": 16,
   "metadata": {},
   "outputs": [],
   "source": [
    "w2v_model = gensim.models.Word2Vec(list_of_sentence, min_count = 5, size = 50, workers = 4)"
   ]
  },
  {
   "cell_type": "code",
   "execution_count": 17,
   "metadata": {},
   "outputs": [
    {
     "name": "stdout",
     "output_type": "stream",
     "text": [
      "<gensim.models.keyedvectors.Word2VecKeyedVectors object at 0x000002165DF06710>\n"
     ]
    }
   ],
   "source": [
    "print(w2v_model.wv)"
   ]
  },
  {
   "cell_type": "code",
   "execution_count": 18,
   "metadata": {},
   "outputs": [],
   "source": [
    "w2v_vocab = list(w2v_model.wv.vocab)"
   ]
  },
  {
   "cell_type": "code",
   "execution_count": 19,
   "metadata": {},
   "outputs": [
    {
     "name": "stdout",
     "output_type": "stream",
     "text": [
      "['bought', 'sever', 'vital', 'can', 'dog', 'food', 'product', 'found', 'good', 'qualiti', 'look', 'like', 'stew', 'process', 'meat', 'smell', 'better', 'labrador', 'finicki', 'appreci', 'arriv', 'label', 'jumbo', 'salt', 'peanut', 'actual', 'small', 'size', 'unsalt', 'sure', 'error', 'vendor', 'intend', 'repres', 'confect', 'around', 'centuri', 'light', 'citrus', 'gelatin', 'nut', 'case', 'cut', 'tini', 'squar', 'liber', 'coat', 'powder', 'sugar', 'mouth']\n"
     ]
    }
   ],
   "source": [
    "print(w2v_vocab[:50])"
   ]
  },
  {
   "cell_type": "code",
   "execution_count": 20,
   "metadata": {},
   "outputs": [],
   "source": [
    "sim_words = w2v_model.wv.most_similar('bought')"
   ]
  },
  {
   "cell_type": "code",
   "execution_count": 21,
   "metadata": {},
   "outputs": [
    {
     "data": {
      "text/plain": [
       "[('purchas', 0.7504637241363525),\n",
       " ('saw', 0.6907180547714233),\n",
       " ('discov', 0.6165358424186707),\n",
       " ('got', 0.6129366159439087),\n",
       " ('order', 0.5996208786964417),\n",
       " ('sold', 0.5914081931114197),\n",
       " ('buy', 0.5908170938491821),\n",
       " ('sell', 0.5566126704216003),\n",
       " ('pick', 0.5524014830589294),\n",
       " ('found', 0.5521510243415833)]"
      ]
     },
     "execution_count": 21,
     "metadata": {},
     "output_type": "execute_result"
    }
   ],
   "source": [
    "sim_words[:10]"
   ]
  },
  {
   "cell_type": "markdown",
   "metadata": {},
   "source": [
    "## Average Word2Vec "
   ]
  },
  {
   "cell_type": "code",
   "execution_count": 22,
   "metadata": {},
   "outputs": [
    {
     "name": "stderr",
     "output_type": "stream",
     "text": [
      "100%|███████████████████████████████████████████████████████████████████████████| 60000/60000 [09:04<00:00, 110.19it/s]\n"
     ]
    }
   ],
   "source": [
    "from tqdm import tqdm\n",
    "\n",
    "corpus_embedding = []\n",
    "for sentence in tqdm(X_train):\n",
    "#     print(sentence)\n",
    "#     break\n",
    "    sentence = sentence.decode('utf-8')\n",
    "    sentence_embedding = np.zeros(50)\n",
    "    count_words = 0\n",
    "    for word in sentence.split():\n",
    "        if word in w2v_vocab:\n",
    "            embedding = w2v_model.wv[word]\n",
    "            sentence_embedding += embedding\n",
    "            count_words += 1\n",
    "    if count_words != 0:\n",
    "        sentence_embedding /= count_words\n",
    "    corpus_embedding.append(sentence_embedding)"
   ]
  },
  {
   "cell_type": "code",
   "execution_count": 23,
   "metadata": {},
   "outputs": [
    {
     "name": "stdout",
     "output_type": "stream",
     "text": [
      "60000\n",
      "50\n"
     ]
    },
    {
     "data": {
      "text/plain": [
       "[array([-0.33130724,  0.11990186,  0.43478317, -0.11587354, -0.87735569,\n",
       "         0.04477178,  0.03932247,  0.07246874,  0.67233599, -0.45780072,\n",
       "         0.3833971 ,  0.06984988,  0.0836829 ,  0.71263175,  0.18682502,\n",
       "        -0.20744671,  0.26407639, -0.31573227, -0.19760946,  0.27243814,\n",
       "         0.44060848, -0.53665292, -0.47823442,  0.32104788,  0.09931615,\n",
       "        -0.04016587,  0.55143294,  0.92508096, -1.05282973,  0.09649807,\n",
       "         0.28540477,  0.99195741, -0.16110061, -0.03687218, -0.26790218,\n",
       "        -0.27366251, -0.05225336, -0.93082341,  0.70776327,  0.60222271,\n",
       "        -0.21371359, -0.27765007,  0.14290504,  0.03360347, -0.59941397,\n",
       "        -0.3228745 , -0.0435011 ,  0.06757492,  1.28469443, -0.16538062]),\n",
       " array([-0.05223032, -0.40994629, -0.01446591, -0.35458623,  0.60434626,\n",
       "        -0.74623798, -0.22499154,  0.18290682,  0.49391777,  0.39002764,\n",
       "         0.0183642 , -0.31606885,  0.30914688,  0.71051544, -0.34783461,\n",
       "         0.3964506 ,  0.57050452, -0.03449809,  0.8417732 ,  0.06738988,\n",
       "        -0.09752006, -0.53030549, -0.43595658,  0.32035297,  0.00321662,\n",
       "         0.45803383,  0.01831031,  0.82998892, -0.1602157 ,  0.24666428,\n",
       "         0.33293262,  0.78057573, -0.32950202,  0.17393594,  0.60447066,\n",
       "         0.2164025 , -0.07208596, -0.45030847,  0.42795248,  0.1643385 ,\n",
       "        -0.18439325, -0.08518366,  0.20995336,  0.15382086, -0.55556401,\n",
       "         0.33206926, -0.06568546, -0.29145887,  1.04229396,  0.78684052])]"
      ]
     },
     "execution_count": 23,
     "metadata": {},
     "output_type": "execute_result"
    }
   ],
   "source": [
    "print(len(corpus_embedding))\n",
    "print(len(corpus_embedding[0]))\n",
    "corpus_embedding[:2]"
   ]
  },
  {
   "cell_type": "code",
   "execution_count": 24,
   "metadata": {},
   "outputs": [
    {
     "name": "stderr",
     "output_type": "stream",
     "text": [
      "100%|███████████████████████████████████████████████████████████████████████████| 20000/20000 [02:07<00:00, 156.82it/s]\n"
     ]
    }
   ],
   "source": [
    "corpus_embedding_test = []\n",
    "for sentence in tqdm(X_test.values):\n",
    "    sentence = sentence.decode('utf-8')\n",
    "    sentence_embedding = np.zeros(50)\n",
    "    count_words = 0\n",
    "    for word in sentence.split():\n",
    "        if word in w2v_vocab:\n",
    "            embedding = w2v_model.wv[word]\n",
    "            sentence_embedding += embedding\n",
    "            count_words += 1\n",
    "    if count_words != 0:\n",
    "        sentence_embedding /= count_words\n",
    "    corpus_embedding_test.append(sentence_embedding)"
   ]
  },
  {
   "cell_type": "code",
   "execution_count": 25,
   "metadata": {},
   "outputs": [
    {
     "name": "stdout",
     "output_type": "stream",
     "text": [
      "20000\n",
      "50\n"
     ]
    },
    {
     "data": {
      "text/plain": [
       "[array([-0.64219781,  0.06740877,  0.08754155,  0.12697695, -0.1502211 ,\n",
       "         0.76158518, -0.00311252, -0.00210324, -0.50045735,  0.3017621 ,\n",
       "        -0.35582948, -0.27375816,  0.51284131,  0.59248943, -0.44766357,\n",
       "         0.29323504,  0.58544105,  0.55842707,  0.36864084,  0.25890433,\n",
       "         0.27340013,  0.46039771, -0.01128547, -0.18316338,  0.03403593,\n",
       "        -0.42852439,  0.49342787,  0.54974348, -1.01935179,  0.24497165,\n",
       "         0.01163171, -0.05291017,  0.08891718, -0.09389858,  0.1408757 ,\n",
       "         0.18058104,  0.21776713,  0.03522105,  0.36759484, -0.68878087,\n",
       "        -0.45319324,  0.56411022, -0.55572345, -0.39961717, -1.21297776,\n",
       "        -0.92817556,  0.38507282,  0.73632854,  0.30057878,  0.04368791]),\n",
       " array([-0.33029165, -0.02694115,  0.43766838,  0.63946401, -0.03411923,\n",
       "         0.39260531, -0.01401077, -0.05555625, -0.33564641,  0.56283167,\n",
       "         0.5305424 , -0.17874585,  0.66348524,  0.94511398, -0.03189868,\n",
       "        -0.24657405,  0.31136622,  0.53559775,  0.33006823,  0.19139591,\n",
       "         0.07609928, -0.12723548, -0.29415657,  0.10567065,  0.16189763,\n",
       "        -0.41789149,  0.327833  ,  0.44070327, -0.83557367,  0.3347098 ,\n",
       "         0.29177905, -0.22792609, -0.38064495,  0.14368879,  0.11431736,\n",
       "        -0.10728285, -0.43409052, -0.57479901,  0.32859917, -0.00656267,\n",
       "        -0.47733667,  0.31744379, -0.45115735, -0.43288093, -0.54064851,\n",
       "        -0.46383701, -0.26979273,  0.56798366,  0.59956846, -0.08774434])]"
      ]
     },
     "execution_count": 25,
     "metadata": {},
     "output_type": "execute_result"
    }
   ],
   "source": [
    "print(len(corpus_embedding_test))\n",
    "print(len(corpus_embedding_test[0]))\n",
    "corpus_embedding_test[:2]"
   ]
  },
  {
   "cell_type": "code",
   "execution_count": 26,
   "metadata": {},
   "outputs": [
    {
     "name": "stderr",
     "output_type": "stream",
     "text": [
      "100%|███████████████████████████████████████████████████████████████████████████| 20000/20000 [01:47<00:00, 186.75it/s]\n"
     ]
    }
   ],
   "source": [
    "corpus_embedding_cv = []\n",
    "for sentence in tqdm(X_cv.values):\n",
    "    sentence = sentence.decode('utf-8')\n",
    "    sentence_embedding = np.zeros(50)\n",
    "    count_words = 0\n",
    "    for word in sentence.split():\n",
    "        if word in w2v_vocab:\n",
    "            embedding = w2v_model.wv[word]\n",
    "            sentence_embedding += embedding\n",
    "            count_words += 1\n",
    "    if count_words != 0:\n",
    "        sentence_embedding /= count_words\n",
    "    corpus_embedding_cv.append(sentence_embedding)"
   ]
  },
  {
   "cell_type": "code",
   "execution_count": 27,
   "metadata": {},
   "outputs": [
    {
     "name": "stdout",
     "output_type": "stream",
     "text": [
      "20000\n",
      "50\n"
     ]
    },
    {
     "data": {
      "text/plain": [
       "[array([-0.74476518,  0.26034909,  0.01905033, -0.55698551, -1.22881328,\n",
       "        -0.07398895,  0.58559934, -0.3726443 ,  0.13380762,  0.57872063,\n",
       "         0.392193  ,  0.49814428, -0.61600011,  0.42974481,  0.30879504,\n",
       "         0.611089  , -0.08647984, -0.11032755,  0.48093092,  0.83139319,\n",
       "        -0.90896484,  0.56624815,  0.1118249 , -0.51617189,  0.52219157,\n",
       "        -1.07219916,  1.2259064 , -0.2465872 , -0.9357186 ,  0.69487356,\n",
       "         1.07688051,  1.00628134,  0.26630863,  1.33351499,  0.60912571,\n",
       "         0.47964376,  0.79870868,  0.92598096,  0.34027716, -0.03779999,\n",
       "         0.06075732,  0.06384472, -0.97680364, -0.52611819,  0.00296386,\n",
       "         0.58830398,  0.51732324,  0.15407792,  0.50168068,  0.83222603]),\n",
       " array([-0.71541628, -0.01856251, -0.04557137, -0.63462695, -0.35917798,\n",
       "         0.33188936, -0.39325189, -0.12285671, -0.39782767,  0.74988701,\n",
       "         0.14752509,  0.45520926, -0.08383783,  0.01243648, -0.43225686,\n",
       "        -0.10797379,  0.62605449,  0.08248688, -0.11679892,  0.02390035,\n",
       "        -0.30097752,  0.3812454 , -0.0329794 ,  0.64049651, -0.17686335,\n",
       "        -0.43947202,  0.34532204,  0.02992058, -0.63370066, -0.03493122,\n",
       "         0.16870649,  0.71232883,  0.46190328,  0.11406729, -0.29134108,\n",
       "         0.80040725,  0.72419706,  0.16248007, -0.66046816, -0.0793983 ,\n",
       "        -0.54272415,  0.75219157, -1.67801872, -0.60644562, -0.49805626,\n",
       "         0.66738109,  0.65919846,  0.52989704,  0.16237612,  0.11261742])]"
      ]
     },
     "execution_count": 27,
     "metadata": {},
     "output_type": "execute_result"
    }
   ],
   "source": [
    "print(len(corpus_embedding_cv))\n",
    "print(len(corpus_embedding_cv[0]))\n",
    "corpus_embedding_cv[:2]"
   ]
  },
  {
   "cell_type": "code",
   "execution_count": 28,
   "metadata": {},
   "outputs": [],
   "source": [
    "X_train_DT = corpus_embedding\n",
    "X_cv_DT = corpus_embedding_cv\n",
    "X_test_DT = corpus_embedding_test"
   ]
  },
  {
   "cell_type": "code",
   "execution_count": 34,
   "metadata": {},
   "outputs": [
    {
     "name": "stdout",
     "output_type": "stream",
     "text": [
      "\n",
      "The optimal depth is 8.\n"
     ]
    },
    {
     "data": {
      "image/png": "[encoded data removed]",
      "text/plain": [
       "<Figure size 432x288 with 1 Axes>"
      ]
     },
     "metadata": {
      "needs_background": "light"
     },
     "output_type": "display_data"
    }
   ],
   "source": [
    "# from sklearn.cross_validation import cross_val_score\n",
    "from sklearn.model_selection import cross_val_score\n",
    "from sklearn import tree\n",
    "\n",
    "myList = list(np.arange(1,11))\n",
    "\n",
    "# empty list that will hold cv scores\n",
    "cv_scores = []\n",
    "\n",
    "for depth in myList:\n",
    "    DT = tree.DecisionTreeClassifier(max_depth = depth)\n",
    "    scores = cross_val_score(DT, X_train_DT, y_train, cv = 5, scoring = 'f1_weighted')\n",
    "    cv_scores.append(scores.mean())\n",
    "    \n",
    "# changing to misclassification error\n",
    "scr = [x for x in cv_scores]\n",
    "\n",
    "optimal_depth = myList[scr.index(max(scr))]\n",
    "print('\\nThe optimal depth is %d.' % optimal_depth)\n",
    "\n",
    "plt.plot(myList, scr)\n",
    "\n",
    "plt.xlabel('Depth value')\n",
    "plt.ylabel('f1-score')\n",
    "plt.show()"
   ]
  },
  {
   "cell_type": "code",
   "execution_count": 40,
   "metadata": {},
   "outputs": [
    {
     "name": "stdout",
     "output_type": "stream",
     "text": [
      "Accuracy on test set: 86.265%\n",
      "Precision on test set: 0.584\n",
      "Recall on test set: 0.416\n",
      "F1-Score on test set: 0.486\n",
      "Confusion Matrix of test set:\n",
      " [ [TN  FP]\n",
      " [FN TP] ]\n",
      "\n"
     ]
    },
    {
     "data": {
      "image/png": "[encoded data removed]",
      "text/plain": [
       "<Figure size 432x288 with 2 Axes>"
      ]
     },
     "metadata": {},
     "output_type": "display_data"
    }
   ],
   "source": [
    "from sklearn.metrics import accuracy_score\n",
    "from sklearn.metrics import confusion_matrix\n",
    "from sklearn.metrics import precision_score\n",
    "from sklearn.metrics import f1_score\n",
    "from sklearn.metrics import recall_score\n",
    "\n",
    "clf = tree.DecisionTreeClassifier(max_depth=8)\n",
    "clf.fit(X_train_DT, y_train)\n",
    "y_pred = clf.predict(X_test_DT)\n",
    "print(\"Accuracy on test set: %0.3f%%\"%(accuracy_score(y_test, y_pred)*100))\n",
    "print(\"Precision on test set: %0.3f\"%(precision_score(y_test, y_pred, pos_label=\"negative\")))\n",
    "print(\"Recall on test set: %0.3f\"%(recall_score(y_test, y_pred, pos_label=\"negative\")))\n",
    "print(\"F1-Score on test set: %0.3f\"%(f1_score(y_test, y_pred, pos_label=\"negative\")))\n",
    "print(\"Confusion Matrix of test set:\\n [ [TN  FP]\\n [FN TP] ]\\n\")\n",
    "df_cm = pd.DataFrame(confusion_matrix(y_test, y_pred), range(2),range(2))\n",
    "sns.set(font_scale=1.8)#for label size\n",
    "sns.heatmap(df_cm, annot=True,annot_kws={\"size\": 20}, fmt='g')\n",
    "plt.show()"
   ]
  },
  {
   "cell_type": "markdown",
   "metadata": {},
   "source": [
    "## Average Word2Vec with tf_idf "
   ]
  },
  {
   "cell_type": "code",
   "execution_count": 41,
   "metadata": {},
   "outputs": [],
   "source": [
    "from sklearn.feature_extraction.text import TfidfVectorizer\n",
    "model = TfidfVectorizer()\n",
    "\n",
    "tf_idf_matrix = model.fit_transform(X_train.values)\n",
    "dictionary = dict(zip(model.get_feature_names(), list(model.idf_)))"
   ]
  },
  {
   "cell_type": "code",
   "execution_count": 42,
   "metadata": {},
   "outputs": [
    {
     "name": "stderr",
     "output_type": "stream",
     "text": [
      "100%|███████████████████████████████████████████████████████████████████████████| 60000/60000 [05:36<00:00, 178.11it/s]\n"
     ]
    }
   ],
   "source": [
    "tfidf_embedding = []\n",
    "for sentence in tqdm(X_train):\n",
    "    sentence = sentence.decode('utf-8')\n",
    "    sentence_embedding = np.zeros(50)\n",
    "    weight_sum = 0\n",
    "    for word in sentence.split():\n",
    "        if word in w2v_vocab:\n",
    "            embedding = w2v_model.wv[word]\n",
    "            tf_idf = dictionary[word] * sentence.count(word)\n",
    "            sentence_embedding += (embedding * tf_idf)\n",
    "            weight_sum += tf_idf\n",
    "    if weight_sum != 0:\n",
    "        sentence_embedding /= weight_sum\n",
    "    tfidf_embedding.append(sentence_embedding)"
   ]
  },
  {
   "cell_type": "code",
   "execution_count": 43,
   "metadata": {},
   "outputs": [
    {
     "data": {
      "text/plain": [
       "[array([-0.39507057,  0.04865201,  0.47421917, -0.0318018 , -0.80058294,\n",
       "        -0.0386741 , -0.03694897,  0.22572383,  0.6794456 , -0.47496199,\n",
       "         0.34024699,  0.12332821, -0.04110784,  0.55182534,  0.11362056,\n",
       "        -0.21379422,  0.39268066, -0.38642998, -0.18918188,  0.19200331,\n",
       "         0.34870092, -0.574394  , -0.4135111 ,  0.39263073,  0.13700051,\n",
       "        -0.16553747,  0.57182365,  0.92967715, -0.84132062,  0.03609145,\n",
       "         0.32041245,  0.90701136, -0.17029555,  0.0628777 , -0.14645327,\n",
       "        -0.29547634, -0.00829913, -0.82583153,  0.90329702,  0.58738923,\n",
       "        -0.17886315, -0.26863072,  0.17260375,  0.21191393, -0.6207026 ,\n",
       "        -0.24653357, -0.08518243, -0.0436834 ,  1.11681301, -0.14349901])]"
      ]
     },
     "execution_count": 43,
     "metadata": {},
     "output_type": "execute_result"
    }
   ],
   "source": [
    "tfidf_embedding[:1]"
   ]
  },
  {
   "cell_type": "code",
   "execution_count": 44,
   "metadata": {},
   "outputs": [
    {
     "name": "stderr",
     "output_type": "stream",
     "text": [
      "100%|███████████████████████████████████████████████████████████████████████████| 20000/20000 [01:52<00:00, 177.02it/s]\n"
     ]
    }
   ],
   "source": [
    "tfidf_embedding_test = []\n",
    "for sentence in tqdm(X_test):\n",
    "    sentence = sentence.decode('utf-8')\n",
    "    sentence_embedding = np.zeros(50)\n",
    "    weight_sum = 0\n",
    "    for word in sentence.split():\n",
    "        if word in w2v_vocab:\n",
    "            embedding = w2v_model.wv[word]\n",
    "            tf_idf = dictionary[word] * sentence.count(word)\n",
    "            sentence_embedding += (embedding * tf_idf)\n",
    "            weight_sum += tf_idf\n",
    "    if weight_sum != 0:\n",
    "        sentence_embedding /= weight_sum\n",
    "    tfidf_embedding_test.append(sentence_embedding)"
   ]
  },
  {
   "cell_type": "code",
   "execution_count": 45,
   "metadata": {},
   "outputs": [
    {
     "data": {
      "text/plain": [
       "[array([-0.94516692,  0.08483584,  0.04657413,  0.01605902, -0.05479704,\n",
       "         0.84658052,  0.09756724,  0.12112301, -0.48066287,  0.08547119,\n",
       "        -0.5777226 , -0.09305732,  0.25719165,  0.28980662, -0.4651542 ,\n",
       "         0.23123447,  0.6277084 ,  0.22186503,  0.40135619,  0.25544087,\n",
       "         0.19110808,  0.45380958,  0.22826479, -0.0907749 , -0.08072546,\n",
       "        -0.29260841,  0.40875988,  0.53817322, -1.00864718,  0.27245711,\n",
       "         0.23393184,  0.14101431, -0.04649135, -0.33272014,  0.20420662,\n",
       "         0.12288305,  0.35543729,  0.26528195,  0.24319909, -0.63315135,\n",
       "        -0.51594048,  0.48998324, -0.51896221, -0.24059932, -1.21929764,\n",
       "        -0.9993108 ,  0.48056983,  0.69646596,  0.06372389,  0.2197149 ])]"
      ]
     },
     "execution_count": 45,
     "metadata": {},
     "output_type": "execute_result"
    }
   ],
   "source": [
    "tfidf_embedding_test[:1]"
   ]
  },
  {
   "cell_type": "code",
   "execution_count": 46,
   "metadata": {},
   "outputs": [
    {
     "name": "stderr",
     "output_type": "stream",
     "text": [
      "100%|███████████████████████████████████████████████████████████████████████████| 20000/20000 [01:56<00:00, 171.72it/s]\n"
     ]
    }
   ],
   "source": [
    "tfidf_embedding_cv = []\n",
    "for sentence in tqdm(X_cv):\n",
    "    sentence = sentence.decode('utf-8')\n",
    "    sentence_embedding = np.zeros(50)\n",
    "    weight_sum = 0\n",
    "    for word in sentence.split():\n",
    "        if word in w2v_vocab:\n",
    "            embedding = w2v_model.wv[word]\n",
    "            tf_idf = dictionary[word] * sentence.count(word)\n",
    "            sentence_embedding += (embedding * tf_idf)\n",
    "            weight_sum += tf_idf\n",
    "    if weight_sum != 0:\n",
    "        sentence_embedding /= weight_sum\n",
    "    tfidf_embedding_cv.append(sentence_embedding)"
   ]
  },
  {
   "cell_type": "code",
   "execution_count": 47,
   "metadata": {},
   "outputs": [
    {
     "data": {
      "text/plain": [
       "[array([-0.72726806,  0.41048944, -0.17674132, -0.61099798, -1.36879579,\n",
       "        -0.2107455 ,  0.81876669, -0.27592758,  0.1851076 ,  0.69178422,\n",
       "         0.35317479,  0.50677583, -0.98526806,  0.41658725,  0.5003131 ,\n",
       "         0.69314527, -0.07986826, -0.52589089,  0.60564101,  1.01089873,\n",
       "        -1.23761498,  0.52444286,  0.2539203 , -0.67535472,  0.61390536,\n",
       "        -1.12815868,  1.39673934, -0.51108577, -0.91932568,  0.85799133,\n",
       "         1.49875188,  1.13817226,  0.30412216,  1.66629285,  0.93754149,\n",
       "         0.36504926,  0.90047127,  0.96694125,  0.35836667,  0.08105114,\n",
       "        -0.01385142,  0.01811398, -1.09005035, -0.68774863,  0.02789835,\n",
       "         0.87163866,  0.55248415,  0.16680863,  0.27908851,  1.13134782])]"
      ]
     },
     "execution_count": 47,
     "metadata": {},
     "output_type": "execute_result"
    }
   ],
   "source": [
    "tfidf_embedding_cv[:1]"
   ]
  },
  {
   "cell_type": "code",
   "execution_count": 51,
   "metadata": {},
   "outputs": [],
   "source": [
    "X_train_DT = tfidf_embedding\n",
    "X_cv_DT = tfidf_embedding_cv\n",
    "X_test_DT = tfidf_embedding_test"
   ]
  },
  {
   "cell_type": "code",
   "execution_count": 52,
   "metadata": {},
   "outputs": [
    {
     "name": "stdout",
     "output_type": "stream",
     "text": [
      "\n",
      "The optimal depth is 8.\n"
     ]
    },
    {
     "data": {
      "image/png": "[encoded data removed]",
      "text/plain": [
       "<Figure size 432x288 with 1 Axes>"
      ]
     },
     "metadata": {},
     "output_type": "display_data"
    }
   ],
   "source": [
    "myList = list(np.arange(1,11))\n",
    "\n",
    "\n",
    "# empty list that will hold cv scores\n",
    "cv_scores = []\n",
    "\n",
    "# perform 10-fold cross validation\n",
    "for depth in myList:\n",
    "    DT = tree.DecisionTreeClassifier(max_depth=depth)\n",
    "    scores = cross_val_score(DT, X_train_DT, y_train, cv=5, scoring='f1_weighted')\n",
    "    cv_scores.append(scores.mean())\n",
    "\n",
    "# changing to misclassification error\n",
    "scr = [x for x in cv_scores]\n",
    "\n",
    "\n",
    "optimal_depth = myList[scr.index(max(scr))]\n",
    "print('\\nThe optimal depth is %d.' % optimal_depth)\n",
    "\n",
    "plt.plot(myList, scr)\n",
    "\n",
    "\n",
    "plt.xlabel('Depth value')\n",
    "plt.ylabel('f1-score')\n",
    "plt.show()"
   ]
  },
  {
   "cell_type": "code",
   "execution_count": 53,
   "metadata": {},
   "outputs": [
    {
     "name": "stdout",
     "output_type": "stream",
     "text": [
      "Accuracy on test set: 85.620%\n",
      "Precision on test set: 0.580\n",
      "Recall on test set: 0.286\n",
      "F1-Score on test set: 0.383\n",
      "Confusion Matrix of test set:\n",
      " [ [TN  FP]\n",
      " [FN TP] ]\n",
      "\n"
     ]
    },
    {
     "data": {
      "image/png": "[encoded data removed]",
      "text/plain": [
       "<Figure size 432x288 with 2 Axes>"
      ]
     },
     "metadata": {},
     "output_type": "display_data"
    }
   ],
   "source": [
    "clf = tree.DecisionTreeClassifier(max_depth=8)\n",
    "clf.fit(X_train_DT, y_train)\n",
    "y_pred = clf.predict(X_test_DT)\n",
    "print(\"Accuracy on test set: %0.3f%%\"%(accuracy_score(y_test, y_pred)*100))\n",
    "print(\"Precision on test set: %0.3f\"%(precision_score(y_test, y_pred, pos_label=\"negative\")))\n",
    "print(\"Recall on test set: %0.3f\"%(recall_score(y_test, y_pred, pos_label=\"negative\")))\n",
    "print(\"F1-Score on test set: %0.3f\"%(f1_score(y_test, y_pred, pos_label=\"negative\")))\n",
    "print(\"Confusion Matrix of test set:\\n [ [TN  FP]\\n [FN TP] ]\\n\")\n",
    "df_cm = pd.DataFrame(confusion_matrix(y_test, y_pred), range(2),range(2))\n",
    "sns.set(font_scale=1.8)#for label size\n",
    "sns.heatmap(df_cm, annot=True,annot_kws={\"size\": 20}, fmt='g')\n",
    "plt.show()"
   ]
  },
  {
   "cell_type": "markdown",
   "metadata": {},
   "source": [
    "## bag of words"
   ]
  },
  {
   "cell_type": "code",
   "execution_count": 302,
   "metadata": {},
   "outputs": [],
   "source": [
    "X = df[\"Text\"]\n",
    "y = df[\"Sentiment\"]"
   ]
  },
  {
   "cell_type": "code",
   "execution_count": 303,
   "metadata": {},
   "outputs": [],
   "source": [
    "df = df.iloc[:2000,:]"
   ]
  },
  {
   "cell_type": "code",
   "execution_count": 304,
   "metadata": {},
   "outputs": [
    {
     "name": "stdout",
     "output_type": "stream",
     "text": [
      "(1600,) (1600,) (400,) (1200,) (400,)\n"
     ]
    }
   ],
   "source": [
    "X_1 = X[:math.ceil(len(df)*.8)]\n",
    "y_1 = y[:math.ceil(len(df)*.8)]\n",
    "X_test = X[math.ceil(len(df)*.8):]\n",
    "y_test = y[math.ceil(len(df)*.8):]\n",
    "\n",
    "X_train = X_1[:math.ceil(len(df)*.6)]\n",
    "y_train = y_1[:math.ceil(len(df)*.6)]\n",
    "X_cv = X_1[math.ceil(len(df)*.6):]\n",
    "y_cv = y_1[math.ceil(len(df)*.6):]\n",
    "\n",
    "print(X_1.shape, y_1.shape, y_test.shape, X_train.shape, X_cv.shape)"
   ]
  },
  {
   "cell_type": "code",
   "execution_count": 305,
   "metadata": {},
   "outputs": [],
   "source": [
    "from sklearn.feature_extraction.text import CountVectorizer\n",
    "from sklearn.feature_extraction.text import TfidfVectorizer\n",
    "\n",
    "count_vect = CountVectorizer() #in scikit-learn\n",
    "X_train = count_vect.fit_transform(X_train)"
   ]
  },
  {
   "cell_type": "code",
   "execution_count": 306,
   "metadata": {},
   "outputs": [],
   "source": [
    "X_test = count_vect.transform(X_test)\n",
    "X_cv = count_vect.transform(X_cv)"
   ]
  },
  {
   "cell_type": "code",
   "execution_count": 307,
   "metadata": {},
   "outputs": [
    {
     "data": {
      "text/plain": [
       "<1200x4899 sparse matrix of type '<class 'numpy.int64'>'\n",
       "\twith 35259 stored elements in Compressed Sparse Row format>"
      ]
     },
     "execution_count": 307,
     "metadata": {},
     "output_type": "execute_result"
    }
   ],
   "source": [
    "X_train"
   ]
  },
  {
   "cell_type": "code",
   "execution_count": null,
   "metadata": {},
   "outputs": [],
   "source": [
    "from sklearn.tree import DecisionTreeClassifier\n",
    "myList = list(np.arange(1,11))\n",
    "\n",
    "\n",
    "# empty list that will hold cv scores\n",
    "cv_scores = []\n",
    "\n",
    "# perform 10-fold cross validation\n",
    "for depth in myList:\n",
    "    DT = DecisionTreeClassifier(max_depth=depth)\n",
    "    scores = cross_val_score(DT, X_train, y_train, cv=5, scoring='f1_weighted')\n",
    "    cv_scores.append(scores.mean())\n",
    "\n",
    "# changing to misclassification error\n",
    "scr = [x for x in cv_scores]\n",
    "\n",
    "\n",
    "optimal_depth = myList[scr.index(max(scr))]\n",
    "print('\\nThe optimal depth is %d.' % optimal_depth)\n",
    "\n",
    "plt.plot(myList, scr)\n",
    "\n",
    "\n",
    "plt.xlabel('Depth value')\n",
    "plt.ylabel('f1-score')\n",
    "plt.show()"
   ]
  },
  {
   "cell_type": "code",
   "execution_count": null,
   "metadata": {},
   "outputs": [],
   "source": [
    "from sklearn.tree import DecisionTreeClassifier\n",
    "clf = DecisionTreeClassifier(max_depth=7)\n",
    "clf.fit(X_train,y_train)\n",
    "y_pred = clf.predict(X_test)\n",
    "print(\"Accuracy on test set: %0.3f%%\"%(accuracy_score(y_test, y_pred)*100))\n",
    "print(\"Precision on test set: %0.3f\"%(precision_score(y_test, y_pred, pos_label=\"negative\")))\n",
    "print(\"Recall on test set: %0.3f\"%(recall_score(y_test, y_pred, pos_label=\"negative\")))\n",
    "print(\"F1-Score on test set: %0.3f\"%(f1_score(y_test, y_pred, pos_label=\"negative\")))\n",
    "print(\"Confusion Matrix of test set:\\n [ [TN  FP]\\n [FN TP] ]\\n\")\n",
    "df_cm = pd.DataFrame(confusion_matrix(y_test, y_pred), range(2),range(2))\n",
    "sns.set(font_scale=1.8)#for label size\n",
    "sns.heatmap(df_cm, annot=True,annot_kws={\"size\": 20}, fmt='g')\n",
    "plt.show()"
   ]
  },
  {
   "cell_type": "markdown",
   "metadata": {},
   "source": [
    "## tf_idf"
   ]
  },
  {
   "cell_type": "code",
   "execution_count": 314,
   "metadata": {},
   "outputs": [],
   "source": [
    "X_1 = X[:math.ceil(len(df)*.8)]\n",
    "y_1 = y[:math.ceil(len(df)*.8)]\n",
    "X_test = X[math.ceil(len(df)*.8):]\n",
    "y_test = y[math.ceil(len(df)*.8):]\n",
    "\n",
    "X_train = X_1[:math.ceil(len(df)*.6)]\n",
    "y_train = y_1[:math.ceil(len(df)*.6)]\n",
    "X_cv = X_1[math.ceil(len(df)*.6):]\n",
    "y_cv = y_1[math.ceil(len(df)*.6):]"
   ]
  },
  {
   "cell_type": "code",
   "execution_count": 315,
   "metadata": {},
   "outputs": [],
   "source": [
    "tf_idf_vect = TfidfVectorizer()\n",
    "X_train = tf_idf_vect.fit_transform(X_train)"
   ]
  },
  {
   "cell_type": "code",
   "execution_count": 316,
   "metadata": {},
   "outputs": [],
   "source": [
    "X_test = tf_idf_vect.transform(X_test)\n",
    "X_cv = tf_idf_vect.transform(X_cv)"
   ]
  },
  {
   "cell_type": "code",
   "execution_count": 317,
   "metadata": {},
   "outputs": [
    {
     "data": {
      "text/plain": [
       "<1200x4899 sparse matrix of type '<class 'numpy.float64'>'\n",
       "\twith 35259 stored elements in Compressed Sparse Row format>"
      ]
     },
     "execution_count": 317,
     "metadata": {},
     "output_type": "execute_result"
    }
   ],
   "source": [
    "X_train"
   ]
  },
  {
   "cell_type": "code",
   "execution_count": null,
   "metadata": {},
   "outputs": [],
   "source": [
    "# empty list that will hold cv scores\n",
    "cv_scores = []\n",
    "\n",
    "# perform 10-fold cross validation\n",
    "for depth in myList:\n",
    "    DT = DecisionTreeClassifier(max_depth=depth)\n",
    "    scores = cross_val_score(DT, X_train, y_train, cv=5, scoring='f1_weighted')\n",
    "    cv_scores.append(scores.mean())\n",
    "\n",
    "# changing to misclassification error\n",
    "scr = [x for x in cv_scores]\n",
    "\n",
    "\n",
    "optimal_depth = myList[scr.index(max(scr))]\n",
    "print('\\nThe optimal depth is %d.' % optimal_depth)\n",
    "\n",
    "plt.plot(myList, scr)\n",
    "\n",
    "\n",
    "plt.xlabel('Depth value')\n",
    "plt.ylabel('f1-score')\n",
    "plt.show()"
   ]
  },
  {
   "cell_type": "code",
   "execution_count": null,
   "metadata": {},
   "outputs": [],
   "source": [
    "from sklearn.tree import DecisionTreeClassifier\n",
    "clf = DecisionTreeClassifier(max_depth=7)\n",
    "clf.fit(X_train,y_train)\n",
    "y_pred = clf.predict(X_test)\n",
    "print(\"Accuracy on test set: %0.3f%%\"%(accuracy_score(y_test, y_pred)*100))\n",
    "print(\"Precision on test set: %0.3f\"%(precision_score(y_test, y_pred, pos_label=\"negative\")))\n",
    "print(\"Recall on test set: %0.3f\"%(recall_score(y_test, y_pred, pos_label=\"negative\")))\n",
    "print(\"F1-Score on test set: %0.3f\"%(f1_score(y_test, y_pred, pos_label=\"negative\")))\n",
    "print(\"Confusion Matrix of test set:\\n [ [TN  FP]\\n [FN TP] ]\\n\")\n",
    "df_cm = pd.DataFrame(confusion_matrix(y_test, y_pred), range(2),range(2))\n",
    "sns.set(font_scale=1.8)#for label size\n",
    "sns.heatmap(df_cm, annot=True,annot_kws={\"size\": 20}, fmt='g')\n",
    "plt.show()"
   ]
  }
 ],
 "metadata": {
  "kernelspec": {
   "display_name": "Python 3",
   "language": "python",
   "name": "python3"
  },
  "language_info": {
   "codemirror_mode": {
    "name": "ipython",
    "version": 3
   },
   "file_extension": ".py",
   "mimetype": "text/x-python",
   "name": "python",
   "nbconvert_exporter": "python",
   "pygments_lexer": "ipython3",
   "version": "3.7.3"
  }
 },
 "nbformat": 4,
 "nbformat_minor": 4
}
