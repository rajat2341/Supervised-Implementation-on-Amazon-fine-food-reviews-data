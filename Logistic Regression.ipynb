{
 "cells": [
  {
   "cell_type": "code",
   "execution_count": 1,
   "metadata": {},
   "outputs": [
    {
     "name": "stderr",
     "output_type": "stream",
     "text": [
      "[nltk_data] Downloading package stopwords to\n",
      "[nltk_data]     C:\\Users\\rajat\\AppData\\Roaming\\nltk_data...\n",
      "[nltk_data]   Package stopwords is already up-to-date!\n",
      "unable to import 'smart_open.gcs', disabling that module\n"
     ]
    }
   ],
   "source": [
    "import pandas as pd\n",
    "import numpy as np\n",
    "import matplotlib.pyplot as plt\n",
    "%matplotlib inline\n",
    "import seaborn as sns\n",
    "sns.set()\n",
    "import warnings\n",
    "warnings.filterwarnings(\"ignore\")\n",
    "import nltk\n",
    "nltk.download('stopwords')\n",
    "from nltk.corpus import stopwords\n",
    "from nltk.stem import PorterStemmer\n",
    "from sklearn.feature_extraction.text import CountVectorizer         \n",
    "from sklearn.feature_extraction.text import TfidfVectorizer     \n",
    "import gensim\n",
    "import math"
   ]
  },
  {
   "cell_type": "code",
   "execution_count": 2,
   "metadata": {},
   "outputs": [],
   "source": [
    "import time\n",
    "import pickle"
   ]
  },
  {
   "cell_type": "code",
   "execution_count": 216,
   "metadata": {},
   "outputs": [],
   "source": [
    "data = pd.read_csv(\"data/Reviews.csv\")"
   ]
  },
  {
   "cell_type": "code",
   "execution_count": 217,
   "metadata": {},
   "outputs": [
    {
     "data": {
      "text/html": [
       "<div>\n",
       "<style scoped>\n",
       "    .dataframe tbody tr th:only-of-type {\n",
       "        vertical-align: middle;\n",
       "    }\n",
       "\n",
       "    .dataframe tbody tr th {\n",
       "        vertical-align: top;\n",
       "    }\n",
       "\n",
       "    .dataframe thead th {\n",
       "        text-align: right;\n",
       "    }\n",
       "</style>\n",
       "<table border=\"1\" class=\"dataframe\">\n",
       "  <thead>\n",
       "    <tr style=\"text-align: right;\">\n",
       "      <th></th>\n",
       "      <th>Id</th>\n",
       "      <th>ProductId</th>\n",
       "      <th>UserId</th>\n",
       "      <th>ProfileName</th>\n",
       "      <th>HelpfulnessNumerator</th>\n",
       "      <th>HelpfulnessDenominator</th>\n",
       "      <th>Score</th>\n",
       "      <th>Time</th>\n",
       "      <th>Summary</th>\n",
       "      <th>Text</th>\n",
       "    </tr>\n",
       "  </thead>\n",
       "  <tbody>\n",
       "    <tr>\n",
       "      <th>0</th>\n",
       "      <td>1</td>\n",
       "      <td>B001E4KFG0</td>\n",
       "      <td>A3SGXH7AUHU8GW</td>\n",
       "      <td>delmartian</td>\n",
       "      <td>1</td>\n",
       "      <td>1</td>\n",
       "      <td>5</td>\n",
       "      <td>1303862400</td>\n",
       "      <td>Good Quality Dog Food</td>\n",
       "      <td>I have bought several of the Vitality canned d...</td>\n",
       "    </tr>\n",
       "    <tr>\n",
       "      <th>1</th>\n",
       "      <td>2</td>\n",
       "      <td>B00813GRG4</td>\n",
       "      <td>A1D87F6ZCVE5NK</td>\n",
       "      <td>dll pa</td>\n",
       "      <td>0</td>\n",
       "      <td>0</td>\n",
       "      <td>1</td>\n",
       "      <td>1346976000</td>\n",
       "      <td>Not as Advertised</td>\n",
       "      <td>Product arrived labeled as Jumbo Salted Peanut...</td>\n",
       "    </tr>\n",
       "    <tr>\n",
       "      <th>2</th>\n",
       "      <td>3</td>\n",
       "      <td>B000LQOCH0</td>\n",
       "      <td>ABXLMWJIXXAIN</td>\n",
       "      <td>Natalia Corres \"Natalia Corres\"</td>\n",
       "      <td>1</td>\n",
       "      <td>1</td>\n",
       "      <td>4</td>\n",
       "      <td>1219017600</td>\n",
       "      <td>\"Delight\" says it all</td>\n",
       "      <td>This is a confection that has been around a fe...</td>\n",
       "    </tr>\n",
       "    <tr>\n",
       "      <th>3</th>\n",
       "      <td>4</td>\n",
       "      <td>B000UA0QIQ</td>\n",
       "      <td>A395BORC6FGVXV</td>\n",
       "      <td>Karl</td>\n",
       "      <td>3</td>\n",
       "      <td>3</td>\n",
       "      <td>2</td>\n",
       "      <td>1307923200</td>\n",
       "      <td>Cough Medicine</td>\n",
       "      <td>If you are looking for the secret ingredient i...</td>\n",
       "    </tr>\n",
       "    <tr>\n",
       "      <th>4</th>\n",
       "      <td>5</td>\n",
       "      <td>B006K2ZZ7K</td>\n",
       "      <td>A1UQRSCLF8GW1T</td>\n",
       "      <td>Michael D. Bigham \"M. Wassir\"</td>\n",
       "      <td>0</td>\n",
       "      <td>0</td>\n",
       "      <td>5</td>\n",
       "      <td>1350777600</td>\n",
       "      <td>Great taffy</td>\n",
       "      <td>Great taffy at a great price.  There was a wid...</td>\n",
       "    </tr>\n",
       "  </tbody>\n",
       "</table>\n",
       "</div>"
      ],
      "text/plain": [
       "   Id   ProductId          UserId                      ProfileName  \\\n",
       "0   1  B001E4KFG0  A3SGXH7AUHU8GW                       delmartian   \n",
       "1   2  B00813GRG4  A1D87F6ZCVE5NK                           dll pa   \n",
       "2   3  B000LQOCH0   ABXLMWJIXXAIN  Natalia Corres \"Natalia Corres\"   \n",
       "3   4  B000UA0QIQ  A395BORC6FGVXV                             Karl   \n",
       "4   5  B006K2ZZ7K  A1UQRSCLF8GW1T    Michael D. Bigham \"M. Wassir\"   \n",
       "\n",
       "   HelpfulnessNumerator  HelpfulnessDenominator  Score        Time  \\\n",
       "0                     1                       1      5  1303862400   \n",
       "1                     0                       0      1  1346976000   \n",
       "2                     1                       1      4  1219017600   \n",
       "3                     3                       3      2  1307923200   \n",
       "4                     0                       0      5  1350777600   \n",
       "\n",
       "                 Summary                                               Text  \n",
       "0  Good Quality Dog Food  I have bought several of the Vitality canned d...  \n",
       "1      Not as Advertised  Product arrived labeled as Jumbo Salted Peanut...  \n",
       "2  \"Delight\" says it all  This is a confection that has been around a fe...  \n",
       "3         Cough Medicine  If you are looking for the secret ingredient i...  \n",
       "4            Great taffy  Great taffy at a great price.  There was a wid...  "
      ]
     },
     "execution_count": 217,
     "metadata": {},
     "output_type": "execute_result"
    }
   ],
   "source": [
    "data.head()"
   ]
  },
  {
   "cell_type": "code",
   "execution_count": 218,
   "metadata": {},
   "outputs": [
    {
     "data": {
      "text/plain": [
       "Index(['Id', 'ProductId', 'UserId', 'ProfileName', 'HelpfulnessNumerator',\n",
       "       'HelpfulnessDenominator', 'Score', 'Time', 'Summary', 'Text'],\n",
       "      dtype='object')"
      ]
     },
     "execution_count": 218,
     "metadata": {},
     "output_type": "execute_result"
    }
   ],
   "source": [
    "data.columns"
   ]
  },
  {
   "cell_type": "code",
   "execution_count": 219,
   "metadata": {},
   "outputs": [
    {
     "data": {
      "text/plain": [
       "(568454, 10)"
      ]
     },
     "execution_count": 219,
     "metadata": {},
     "output_type": "execute_result"
    }
   ],
   "source": [
    "data.shape"
   ]
  },
  {
   "cell_type": "code",
   "execution_count": 220,
   "metadata": {},
   "outputs": [],
   "source": [
    "data = data[data['Score'] != 3]"
   ]
  },
  {
   "cell_type": "code",
   "execution_count": 221,
   "metadata": {},
   "outputs": [
    {
     "data": {
      "text/plain": [
       "array([5, 1, 4, 2])"
      ]
     },
     "execution_count": 221,
     "metadata": {},
     "output_type": "execute_result"
    }
   ],
   "source": [
    "data.Score.unique()"
   ]
  },
  {
   "cell_type": "code",
   "execution_count": 222,
   "metadata": {},
   "outputs": [
    {
     "data": {
      "text/plain": [
       "5    363122\n",
       "4     80655\n",
       "1     52268\n",
       "2     29769\n",
       "Name: Score, dtype: int64"
      ]
     },
     "execution_count": 222,
     "metadata": {},
     "output_type": "execute_result"
    }
   ],
   "source": [
    "data['Score'].value_counts()"
   ]
  },
  {
   "cell_type": "code",
   "execution_count": 223,
   "metadata": {},
   "outputs": [],
   "source": [
    "def partition(x):\n",
    "    if x < 3:\n",
    "        return 'negative'\n",
    "    return 'positive'\n",
    "\n",
    "score = data['Score']\n",
    "temp = score.map(partition)\n",
    "data['Score'] = temp"
   ]
  },
  {
   "cell_type": "code",
   "execution_count": 224,
   "metadata": {},
   "outputs": [],
   "source": [
    "data = data.drop_duplicates(subset={\"UserId\",\"ProfileName\",\"Time\",\"Text\"})"
   ]
  },
  {
   "cell_type": "code",
   "execution_count": 225,
   "metadata": {},
   "outputs": [],
   "source": [
    "data = data[data['HelpfulnessNumerator'] <= data['HelpfulnessDenominator']]"
   ]
  },
  {
   "cell_type": "code",
   "execution_count": 226,
   "metadata": {},
   "outputs": [],
   "source": [
    "data = data.iloc[:100000,:]"
   ]
  },
  {
   "cell_type": "code",
   "execution_count": 227,
   "metadata": {},
   "outputs": [],
   "source": [
    "data_X = data['Text']\n",
    "data_Y = data['Score']"
   ]
  },
  {
   "cell_type": "code",
   "execution_count": 228,
   "metadata": {},
   "outputs": [
    {
     "data": {
      "text/plain": [
       "'negative'"
      ]
     },
     "execution_count": 228,
     "metadata": {},
     "output_type": "execute_result"
    }
   ],
   "source": [
    "data_Y.values[1]"
   ]
  },
  {
   "cell_type": "code",
   "execution_count": 229,
   "metadata": {},
   "outputs": [
    {
     "name": "stdout",
     "output_type": "stream",
     "text": [
      "{'being', 'through', 'now', 'where', 'be', 'very', \"weren't\", \"don't\", 'hadn', 'were', 'didn', 'for', 'yours', 'couldn', 'of', 'these', 'ourselves', 'at', 'mightn', 'myself', 'ours', 'him', 'by', \"it's\", 'haven', 'doesn', \"wasn't\", 'in', 'll', 'further', 'won', 'all', 'them', 'whom', 'had', 'and', 'my', 'when', 'those', 'into', 'nor', 'an', 'only', \"should've\", \"shan't\", 'am', 'own', 'between', 'their', 'i', 'same', 'so', 'm', 'y', 'does', 'itself', \"shouldn't\", \"aren't\", 'from', 'd', 'most', 'yourselves', 'has', 'did', 'such', 'weren', 'it', 'theirs', 'up', 'some', \"mightn't\", 'out', 'more', \"isn't\", \"you're\", 'who', 'wasn', 'after', 'we', 'against', 't', 'themselves', 'how', 'than', 're', 'her', 'can', 'any', \"needn't\", 'our', 'not', \"mustn't\", 'over', 'should', \"that'll\", 'just', 'isn', 'is', 'during', \"doesn't\", 'until', 'while', 'as', 'what', \"she's\", 'ma', 'about', \"couldn't\", 'under', \"you'll\", 'the', 'each', 'don', 'his', 'are', 've', 'shan', \"you've\", 'this', 's', 'was', \"wouldn't\", 'doing', 'below', 'ain', 'that', 'if', 'having', 'your', 'then', 'there', 'why', 'me', 'once', 'o', 'down', 'which', 'both', 'or', 'too', 'yourself', 'above', 'but', 'a', 'off', \"hasn't\", 'on', \"haven't\", 'herself', 'because', 'have', 'himself', 'will', 'here', 'again', \"didn't\", 'been', 'do', 'needn', 'they', \"won't\", 'he', 'its', 'no', \"hadn't\", 'mustn', 'few', 'hers', 'aren', 'other', \"you'd\", 'to', 'hasn', 'before', 'wouldn', 'shouldn', 'you', 'she', 'with'}\n"
     ]
    }
   ],
   "source": [
    "print(set(stopwords.words('english')))"
   ]
  },
  {
   "cell_type": "code",
   "execution_count": 3,
   "metadata": {},
   "outputs": [],
   "source": [
    "import re\n",
    "snow = nltk.stem.SnowballStemmer('english')\n",
    "stop = set(stopwords.words('english'))\n",
    "\n",
    "def cleanhtml(sentence):\n",
    "    sentence = sentence.lower()                                       # Converting to lowercase\n",
    "    cleanr = re.compile('<.*?>')\n",
    "    sentence = re.sub(cleanr, ' ', sentence)                          # Cleaning Html tags\n",
    "    \n",
    "    return sentence\n",
    "\n",
    "def cleanpunc(sentence):\n",
    "    sentence = re.sub('[^A-Za-z0-9]+', '', sentence)                # Cleaning punctuations\n",
    "    \n",
    "    return sentence"
   ]
  },
  {
   "cell_type": "code",
   "execution_count": 231,
   "metadata": {},
   "outputs": [],
   "source": [
    "temp = []\n",
    "str1 = ''\n",
    "positive_words = []\n",
    "negative_words = []\n",
    "i = 0\n",
    "for sentence in data_X:\n",
    "    words = []\n",
    "    sentence = cleanhtml(sentence)\n",
    "    for word in sentence.split():\n",
    "        word = cleanpunc(word)\n",
    "        if((word.isalpha()) & (len(word) > 2)): \n",
    "            if word not in stop:\n",
    "                s = snow.stem(word).encode('utf8')\n",
    "                words.append(s)\n",
    "                if (data_Y.values)[i] == 'positive': \n",
    "                    positive_words.append(s) #list of all words used to describe positive reviews.\n",
    "                if(data_Y.values)[i] == 'negative':\n",
    "                    negative_words.append(s) #list of all words used to describe negative reviews.\n",
    "            else:\n",
    "                continue\n",
    "        else:\n",
    "                continue\n",
    "    str1 = b\" \".join(words)\n",
    "    temp.append(str1)\n",
    "    i += 1"
   ]
  },
  {
   "cell_type": "code",
   "execution_count": 261,
   "metadata": {},
   "outputs": [
    {
     "data": {
      "text/plain": [
       "[b'bought sever vital can dog food product found good qualiti product look like stew process meat smell better labrador finicki appreci product better',\n",
       " b'product arriv label jumbo salt peanutsth peanut actual small size unsalt sure error vendor intend repres product jumbo',\n",
       " b'confect around centuri light pillowi citrus gelatin nut case filbert cut tini squar liber coat powder sugar tini mouth heaven chewi flavor high recommend yummi treat familiar stori lewi lion witch wardrob treat seduc edmund sell brother sister witch',\n",
       " b'look secret ingredi robitussin believ found got addit root beer extract order good made cherri soda flavor medicin',\n",
       " b'great taffi great price wide assort yummi taffi deliveri quick taffi lover deal',\n",
       " b'got wild hair taffi order five pound bag taffi enjoy mani flavor watermelon root beer melon peppermint grape etc complaint bit much redblack licoriceflavor piec particular favorit kid husband last two week would recommend brand taffi delight treat',\n",
       " b'saltwat taffi great flavor soft chewi candi individu wrap well none candi stuck togeth happen expens version fraling would high recommend candi serv beachthem parti everyon love',\n",
       " b'taffi good soft chewi flavor amaz would definit recommend buy satisfi',\n",
       " b'right most sprout cat eat grass love rotat around wheatgrass rye',\n",
       " b'healthi dog food good digest also good small puppi dog eat requir amount everi feed']"
      ]
     },
     "execution_count": 261,
     "metadata": {},
     "output_type": "execute_result"
    }
   ],
   "source": [
    "temp[:10]"
   ]
  },
  {
   "cell_type": "code",
   "execution_count": 262,
   "metadata": {},
   "outputs": [],
   "source": [
    "data_X = temp"
   ]
  },
  {
   "cell_type": "code",
   "execution_count": null,
   "metadata": {},
   "outputs": [],
   "source": [
    "df = pd.DataFrame(list(zip(data_X, data_Y)), columns = ['Text', 'Sentiment'] )"
   ]
  },
  {
   "cell_type": "code",
   "execution_count": 1,
   "metadata": {},
   "outputs": [],
   "source": [
    "df.to_pickle('data/cleaned_file.pkl')"
   ]
  },
  {
   "cell_type": "code",
   "execution_count": 4,
   "metadata": {},
   "outputs": [],
   "source": [
    "df = pd.read_pickle('data/cleaned_file.pkl')"
   ]
  },
  {
   "cell_type": "code",
   "execution_count": 5,
   "metadata": {},
   "outputs": [
    {
     "data": {
      "text/html": [
       "<div>\n",
       "<style scoped>\n",
       "    .dataframe tbody tr th:only-of-type {\n",
       "        vertical-align: middle;\n",
       "    }\n",
       "\n",
       "    .dataframe tbody tr th {\n",
       "        vertical-align: top;\n",
       "    }\n",
       "\n",
       "    .dataframe thead th {\n",
       "        text-align: right;\n",
       "    }\n",
       "</style>\n",
       "<table border=\"1\" class=\"dataframe\">\n",
       "  <thead>\n",
       "    <tr style=\"text-align: right;\">\n",
       "      <th></th>\n",
       "      <th>Text</th>\n",
       "      <th>Sentiment</th>\n",
       "    </tr>\n",
       "  </thead>\n",
       "  <tbody>\n",
       "    <tr>\n",
       "      <th>0</th>\n",
       "      <td>b'bought sever vital can dog food product foun...</td>\n",
       "      <td>positive</td>\n",
       "    </tr>\n",
       "    <tr>\n",
       "      <th>1</th>\n",
       "      <td>b'product arriv label jumbo salt peanutsth pea...</td>\n",
       "      <td>negative</td>\n",
       "    </tr>\n",
       "    <tr>\n",
       "      <th>2</th>\n",
       "      <td>b'confect around centuri light pillowi citrus ...</td>\n",
       "      <td>positive</td>\n",
       "    </tr>\n",
       "    <tr>\n",
       "      <th>3</th>\n",
       "      <td>b'look secret ingredi robitussin believ found ...</td>\n",
       "      <td>negative</td>\n",
       "    </tr>\n",
       "    <tr>\n",
       "      <th>4</th>\n",
       "      <td>b'great taffi great price wide assort yummi ta...</td>\n",
       "      <td>positive</td>\n",
       "    </tr>\n",
       "  </tbody>\n",
       "</table>\n",
       "</div>"
      ],
      "text/plain": [
       "                                                Text Sentiment\n",
       "0  b'bought sever vital can dog food product foun...  positive\n",
       "1  b'product arriv label jumbo salt peanutsth pea...  negative\n",
       "2  b'confect around centuri light pillowi citrus ...  positive\n",
       "3  b'look secret ingredi robitussin believ found ...  negative\n",
       "4  b'great taffi great price wide assort yummi ta...  positive"
      ]
     },
     "execution_count": 5,
     "metadata": {},
     "output_type": "execute_result"
    }
   ],
   "source": [
    "df.head()"
   ]
  },
  {
   "cell_type": "code",
   "execution_count": 6,
   "metadata": {},
   "outputs": [
    {
     "data": {
      "text/plain": [
       "b'confect around centuri light pillowi citrus gelatin nut case filbert cut tini squar liber coat powder sugar tini mouth heaven chewi flavor high recommend yummi treat familiar stori lewi lion witch wardrob treat seduc edmund sell brother sister witch'"
      ]
     },
     "execution_count": 6,
     "metadata": {},
     "output_type": "execute_result"
    }
   ],
   "source": [
    "df['Text'][2]"
   ]
  },
  {
   "cell_type": "code",
   "execution_count": 7,
   "metadata": {},
   "outputs": [],
   "source": [
    "X = df[\"Text\"]\n",
    "y = df[\"Sentiment\"]"
   ]
  },
  {
   "cell_type": "code",
   "execution_count": 8,
   "metadata": {},
   "outputs": [
    {
     "data": {
      "text/plain": [
       "((100000, 2), (100000,), (100000,))"
      ]
     },
     "execution_count": 8,
     "metadata": {},
     "output_type": "execute_result"
    }
   ],
   "source": [
    "df.shape, X.shape, y.shape"
   ]
  },
  {
   "cell_type": "markdown",
   "metadata": {},
   "source": [
    "## Bag of Words (BoW) Vectorization Technique"
   ]
  },
  {
   "cell_type": "code",
   "execution_count": 9,
   "metadata": {},
   "outputs": [
    {
     "name": "stdout",
     "output_type": "stream",
     "text": [
      "(60000,) (60000,) (20000,) (20000,)\n"
     ]
    }
   ],
   "source": [
    "X_1 = X[:math.ceil(len(df)*0.8)]\n",
    "y_1 = y[:math.ceil(len(df)*0.8)]\n",
    "X_test = X[math.ceil(len(df)*0.8):]\n",
    "y_test = y[math.ceil(len(df)*0.8):]\n",
    "\n",
    "X_train = X_1[:math.ceil(len(df)*0.6)]\n",
    "y_train = y_1[:math.ceil(len(df)*0.6)]\n",
    "X_cv = X_1[math.ceil(len(df)*0.6):]\n",
    "y_cv = y_1[math.ceil(len(df)*0.6):]\n",
    "\n",
    "print(X_train.shape, y_train.shape, X_cv.shape, X_test.shape)"
   ]
  },
  {
   "cell_type": "code",
   "execution_count": 10,
   "metadata": {},
   "outputs": [],
   "source": [
    "count_vect = CountVectorizer(dtype=\"float\") #in scikit-learn\n",
    "X_train = count_vect.fit_transform(X_train)"
   ]
  },
  {
   "cell_type": "code",
   "execution_count": 11,
   "metadata": {},
   "outputs": [],
   "source": [
    "X_test = count_vect.transform(X_test)\n",
    "X_cv = count_vect.transform(X_cv)"
   ]
  },
  {
   "cell_type": "code",
   "execution_count": 12,
   "metadata": {},
   "outputs": [
    {
     "data": {
      "text/plain": [
       "<60000x46146 sparse matrix of type '<class 'numpy.float64'>'\n",
       "\twith 1930676 stored elements in Compressed Sparse Row format>"
      ]
     },
     "execution_count": 12,
     "metadata": {},
     "output_type": "execute_result"
    }
   ],
   "source": [
    "X_train"
   ]
  },
  {
   "cell_type": "code",
   "execution_count": 13,
   "metadata": {},
   "outputs": [
    {
     "name": "stdout",
     "output_type": "stream",
     "text": [
      "(60000, 46146)\n"
     ]
    }
   ],
   "source": [
    "from sklearn.preprocessing import StandardScaler\n",
    "standardized_data = StandardScaler(with_mean=False).fit_transform(X_train)\n",
    "print(standardized_data.shape)"
   ]
  },
  {
   "cell_type": "code",
   "execution_count": 14,
   "metadata": {},
   "outputs": [
    {
     "name": "stdout",
     "output_type": "stream",
     "text": [
      "<class 'scipy.sparse.csr.csr_matrix'>\n"
     ]
    }
   ],
   "source": [
    "print(type(standardized_data))"
   ]
  },
  {
   "cell_type": "markdown",
   "metadata": {},
   "source": [
    "## Calculate 'Lambda' using GridSearchCV"
   ]
  },
  {
   "cell_type": "code",
   "execution_count": 15,
   "metadata": {},
   "outputs": [],
   "source": [
    "# libraries\n",
    "from sklearn.preprocessing import StandardScaler\n",
    "from sklearn.model_selection import RandomizedSearchCV\n",
    "from sklearn.model_selection import GridSearchCV\n",
    "from sklearn.linear_model import LogisticRegression\n",
    "from sklearn.metrics import f1_score\n",
    "from collections import Counter\n",
    "from wordcloud import WordCloud\n",
    "from sklearn.metrics import accuracy_score\n",
    "from sklearn.metrics import confusion_matrix\n",
    "from sklearn.metrics import precision_score\n",
    "from sklearn.metrics import f1_score\n",
    "from sklearn.metrics import recall_score"
   ]
  },
  {
   "cell_type": "code",
   "execution_count": 16,
   "metadata": {},
   "outputs": [
    {
     "name": "stdout",
     "output_type": "stream",
     "text": [
      "LogisticRegression(C=1, class_weight=None, dual=False, fit_intercept=True,\n",
      "                   intercept_scaling=1, l1_ratio=None, max_iter=100,\n",
      "                   multi_class='warn', n_jobs=None, penalty='l2',\n",
      "                   random_state=None, solver='warn', tol=0.0001, verbose=0,\n",
      "                   warm_start=False)\n",
      "0.9100614745465183\n"
     ]
    }
   ],
   "source": [
    "tuned_parameters = [{'C': [10**-4, 10**-2, 10**0, 10**2, 10**4]}]\n",
    "model = GridSearchCV(LogisticRegression(), tuned_parameters, scoring = 'f1_weighted', cv=5)\n",
    "model.fit(X_train, y_train)\n",
    "\n",
    "print(model.best_estimator_)\n",
    "print(model.score(X_test, y_test))"
   ]
  },
  {
   "cell_type": "markdown",
   "metadata": {},
   "source": [
    "## Calculate 'Lambda' using RandomizedSearchCV "
   ]
  },
  {
   "cell_type": "code",
   "execution_count": 17,
   "metadata": {},
   "outputs": [],
   "source": [
    "tuned_parameters = {'C': [10**-4, 10**-2, 10**0, 10**2, 10**4]}"
   ]
  },
  {
   "cell_type": "code",
   "execution_count": 18,
   "metadata": {},
   "outputs": [
    {
     "name": "stdout",
     "output_type": "stream",
     "text": [
      "LogisticRegression(C=1, class_weight=None, dual=False, fit_intercept=True,\n",
      "                   intercept_scaling=1, l1_ratio=None, max_iter=100,\n",
      "                   multi_class='warn', n_jobs=None, penalty='l2',\n",
      "                   random_state=None, solver='warn', tol=0.0001, verbose=0,\n",
      "                   warm_start=False)\n",
      "0.9100614745465183\n"
     ]
    }
   ],
   "source": [
    "model1 = RandomizedSearchCV(LogisticRegression(), tuned_parameters, scoring = 'f1_weighted', cv=5, n_iter=3)\n",
    "model1.fit(X_train, y_train)\n",
    "\n",
    "print(model1.best_estimator_)\n",
    "print(model1.score(X_test, y_test))"
   ]
  },
  {
   "cell_type": "code",
   "execution_count": 19,
   "metadata": {},
   "outputs": [
    {
     "name": "stdout",
     "output_type": "stream",
     "text": [
      "\n",
      "The F1-Score for L2 Regularization is 91.006147%\n"
     ]
    }
   ],
   "source": [
    "clf = LogisticRegression(C=1, penalty='l2')\n",
    "clf.fit(X_train, y_train)\n",
    "pred = clf.predict(X_test)\n",
    "f1_value = f1_score(y_test, pred,average='weighted') * float(100)\n",
    "print('\\nThe F1-Score for L2 Regularization is %f%%' % (f1_value))"
   ]
  },
  {
   "cell_type": "code",
   "execution_count": 20,
   "metadata": {},
   "outputs": [
    {
     "name": "stdout",
     "output_type": "stream",
     "text": [
      "\n",
      "The F1-Score for L1 Regularization is 91.019090%\n"
     ]
    }
   ],
   "source": [
    "clf1 = LogisticRegression(C=1, penalty='l1')\n",
    "clf1.fit(X_train, y_train)\n",
    "pred = clf1.predict(X_test)\n",
    "f1_value = f1_score(y_test, pred,average='weighted') * float(100)\n",
    "print('\\nThe F1-Score for L1 Regularization is %f%%' % (f1_value))"
   ]
  },
  {
   "cell_type": "markdown",
   "metadata": {},
   "source": [
    "## Confusion matrix "
   ]
  },
  {
   "cell_type": "code",
   "execution_count": 21,
   "metadata": {},
   "outputs": [
    {
     "data": {
      "image/png": "[encoded data removed]",
      "text/plain": [
       "<Figure size 432x288 with 2 Axes>"
      ]
     },
     "metadata": {},
     "output_type": "display_data"
    }
   ],
   "source": [
    "array=confusion_matrix(y_test, pred )\n",
    "df_cm = pd.DataFrame(array, range(2),\n",
    "                  range(2))\n",
    "#plt.figure(figsize = (10,7))\n",
    "sns.set(font_scale=1.4)#for label size\n",
    "sns.heatmap(df_cm, annot=True,annot_kws={\"size\": 16}, fmt = 'g')\n",
    "plt.xlabel('Predicted')\n",
    "plt.ylabel('Actual')\n",
    "plt.show()"
   ]
  },
  {
   "cell_type": "code",
   "execution_count": 22,
   "metadata": {},
   "outputs": [],
   "source": [
    "Lambdas = [10**-4,10**-2,10**0,10**2,10**4]"
   ]
  },
  {
   "cell_type": "code",
   "execution_count": null,
   "metadata": {},
   "outputs": [],
   "source": [
    "cv_scores = []\n",
    "\n",
    "for k in Lambdas:\n",
    "    clf1 = LogisticRegression(C=1/k, penalty='l1')\n",
    "     # fitting the model on crossvalidation train\n",
    "    clf1.fit(X_train, y_train)\n",
    "    # predict the response on the crossvalidation train\n",
    "    pred = clf1.predict(X_cv)\n",
    "     # evaluate CV accuracy\n",
    "    f1_value = f1_score(y_cv, pred, average='weighted') * float(100)\n",
    "    cv_scores.append(f1_value)"
   ]
  },
  {
   "cell_type": "code",
   "execution_count": null,
   "metadata": {},
   "outputs": [],
   "source": [
    "MSE = [100 - x for x in cv_scores]"
   ]
  },
  {
   "cell_type": "code",
   "execution_count": null,
   "metadata": {},
   "outputs": [],
   "source": [
    "plt.figure(figsize=(8,6))\n",
    "plt.plot(Lambdas, MSE)\n",
    "\n",
    "for xy in zip(Lambdas, np.round(MSE,3)):\n",
    "    plt.annotate('(%s, %s)' % xy, xy=xy, textcoords='data')\n",
    "\n",
    "plt.xlabel('Lambda Values')\n",
    "plt.ylabel('Misclassification Error')\n",
    "plt.show()\n",
    "print(\"the misclassification error for each lambda value is : \", np.round(MSE,3))"
   ]
  },
  {
   "cell_type": "code",
   "execution_count": null,
   "metadata": {},
   "outputs": [],
   "source": [
    "Sparsity_scores = []\n",
    "\n",
    "for k in Lambdas:\n",
    "    clf1 = LogisticRegression(C=1/k, penalty='l1')\n",
    "     # fitting the model on crossvalidation train\n",
    "    clf1.fit(X_train, y_train)\n",
    "    w = clf1.coef_\n",
    "    print(np.count_nonzero(w))\n",
    "    Sparsity_scores.append(np.count_nonzero(w))"
   ]
  },
  {
   "cell_type": "code",
   "execution_count": null,
   "metadata": {},
   "outputs": [],
   "source": [
    "plt.figure(figsize=(8,6))\n",
    "plt.plot(Lambdas, Sparsity_scores)\n",
    "\n",
    "for xy in zip(Lambdas, Sparsity_scores):\n",
    "    plt.annotate('(%s, %s)' % xy, xy=xy, textcoords='data')\n",
    "\n",
    "plt.xlabel('Lambda Values')\n",
    "plt.ylabel('Non-Zero Count')\n",
    "plt.show()"
   ]
  },
  {
   "cell_type": "markdown",
   "metadata": {},
   "source": [
    "## Feature Importance "
   ]
  },
  {
   "cell_type": "code",
   "execution_count": null,
   "metadata": {},
   "outputs": [],
   "source": [
    "clf = LogisticRegression(C=1, penalty='l1'); # Checking for multicollinearity through Pertubation test\n",
    "clf.fit(X_train, y_train);\n",
    "w = clf.coef_\n",
    "w"
   ]
  },
  {
   "cell_type": "code",
   "execution_count": null,
   "metadata": {},
   "outputs": [],
   "source": [
    "epsilon = np.random.normal(loc=0.0, scale=0.00000001)\n",
    "X_train.data = X_train.data + epsilon"
   ]
  },
  {
   "cell_type": "code",
   "execution_count": null,
   "metadata": {},
   "outputs": [],
   "source": [
    "clf1 = LogisticRegression(C=1, penalty='l1'); # Checking for multicollinearity through Pertubation test\n",
    "clf1.fit(X_train, y_train);\n",
    "w1 = clf1.coef_\n",
    "w1"
   ]
  },
  {
   "cell_type": "code",
   "execution_count": null,
   "metadata": {},
   "outputs": [],
   "source": [
    "w = w.tolist()\n",
    "w1 = w1.tolist()"
   ]
  },
  {
   "cell_type": "code",
   "execution_count": null,
   "metadata": {},
   "outputs": [],
   "source": [
    "percent_change=[-9999 if x == 0 else (((y - x) * 100)) for x, y in zip(w[0], w1[0])]"
   ]
  },
  {
   "cell_type": "code",
   "execution_count": null,
   "metadata": {},
   "outputs": [],
   "source": [
    "all_features = count_vect.get_feature_names()\n",
    "all_nd_features = np.array(all_features)"
   ]
  },
  {
   "cell_type": "code",
   "execution_count": null,
   "metadata": {},
   "outputs": [],
   "source": [
    "feature_dict = dict(zip(all_nd_features, percent_change))\n",
    "features_dic = {k:v for k,v in feature_dict.items() if v != -9999}\n",
    "len(features_dic)"
   ]
  },
  {
   "cell_type": "code",
   "execution_count": null,
   "metadata": {},
   "outputs": [],
   "source": [
    "features_dict = {k:v for k,v in features_dic.items() if v <0.4}\n",
    "len(features_dict)"
   ]
  },
  {
   "cell_type": "code",
   "execution_count": null,
   "metadata": {},
   "outputs": [],
   "source": [
    "top_100_features=sorted(features_dict, key=features_dict.get, reverse=True)[:100]"
   ]
  },
  {
   "cell_type": "code",
   "execution_count": null,
   "metadata": {},
   "outputs": [],
   "source": [
    "from collections import Counter\n",
    "from wordcloud import WordCloud"
   ]
  },
  {
   "cell_type": "code",
   "execution_count": null,
   "metadata": {},
   "outputs": [],
   "source": [
    "word_could_dict=Counter(top_100_features)\n",
    "wordcloud = WordCloud(width = 1000, height = 500).generate_from_frequencies(word_could_dict)\n",
    "\n",
    "plt.figure(figsize=(15,8))\n",
    "plt.imshow(wordcloud)\n",
    "plt.axis(\"off\") \n",
    "plt.show()"
   ]
  },
  {
   "cell_type": "markdown",
   "metadata": {},
   "source": [
    "## tf-idf Vectorization Technique"
   ]
  },
  {
   "cell_type": "code",
   "execution_count": 23,
   "metadata": {},
   "outputs": [
    {
     "name": "stdout",
     "output_type": "stream",
     "text": [
      "(60000,) (60000,) (20000,) (20000,)\n"
     ]
    }
   ],
   "source": [
    "X_1 = X[:math.ceil(len(df)*0.8)]\n",
    "y_1 = y[:math.ceil(len(df)*0.8)]\n",
    "X_test = X[math.ceil(len(df)*0.8):]\n",
    "y_test = y[math.ceil(len(df)*0.8):]\n",
    "\n",
    "X_train = X_1[:math.ceil(len(df)*0.6)]\n",
    "y_train = y_1[:math.ceil(len(df)*0.6)]\n",
    "X_cv = X_1[math.ceil(len(df)*0.6):]\n",
    "y_cv = y_1[math.ceil(len(df)*0.6):]\n",
    "\n",
    "print(X_train.shape, y_train.shape, X_cv.shape, X_test.shape)"
   ]
  },
  {
   "cell_type": "code",
   "execution_count": 24,
   "metadata": {},
   "outputs": [],
   "source": [
    "tf_idf_vect = TfidfVectorizer(dtype='float')\n",
    "X_train = tf_idf_vect.fit_transform(X_train)"
   ]
  },
  {
   "cell_type": "code",
   "execution_count": 25,
   "metadata": {},
   "outputs": [],
   "source": [
    "X_test=tf_idf_vect.transform(X_test)\n",
    "X_cv = tf_idf_vect.transform(X_cv)"
   ]
  },
  {
   "cell_type": "code",
   "execution_count": 26,
   "metadata": {},
   "outputs": [
    {
     "data": {
      "text/plain": [
       "<60000x46146 sparse matrix of type '<class 'numpy.float64'>'\n",
       "\twith 1930676 stored elements in Compressed Sparse Row format>"
      ]
     },
     "execution_count": 26,
     "metadata": {},
     "output_type": "execute_result"
    }
   ],
   "source": [
    "X_train"
   ]
  },
  {
   "cell_type": "code",
   "execution_count": 27,
   "metadata": {},
   "outputs": [
    {
     "name": "stdout",
     "output_type": "stream",
     "text": [
      "(60000, 46146)\n"
     ]
    }
   ],
   "source": [
    "from sklearn.preprocessing import StandardScaler\n",
    "standardized_data = StandardScaler(with_mean=False).fit_transform(X_train)\n",
    "print(standardized_data.shape)"
   ]
  },
  {
   "cell_type": "markdown",
   "metadata": {},
   "source": [
    "## Calculate 'Lambda' using GridSearchCV"
   ]
  },
  {
   "cell_type": "code",
   "execution_count": 28,
   "metadata": {},
   "outputs": [
    {
     "name": "stdout",
     "output_type": "stream",
     "text": [
      "LogisticRegression(C=1, class_weight=None, dual=False, fit_intercept=True,\n",
      "                   intercept_scaling=1, l1_ratio=None, max_iter=100,\n",
      "                   multi_class='warn', n_jobs=None, penalty='l2',\n",
      "                   random_state=None, solver='warn', tol=0.0001, verbose=0,\n",
      "                   warm_start=False)\n",
      "0.9108521324962603\n"
     ]
    }
   ],
   "source": [
    "tuned_parameters = [{'C': [10**-4, 10**-2, 10**0, 10**2, 10**4]}]\n",
    "model = GridSearchCV(LogisticRegression(), tuned_parameters, scoring = 'f1_weighted', cv=5)\n",
    "model.fit(X_train, y_train)\n",
    "\n",
    "print(model.best_estimator_)\n",
    "print(model.score(X_test, y_test))"
   ]
  },
  {
   "cell_type": "markdown",
   "metadata": {},
   "source": [
    "## Calculate 'Lambda' using RandomizedSearchCV "
   ]
  },
  {
   "cell_type": "code",
   "execution_count": 29,
   "metadata": {},
   "outputs": [
    {
     "name": "stdout",
     "output_type": "stream",
     "text": [
      "LogisticRegression(C=1, class_weight=None, dual=False, fit_intercept=True,\n",
      "                   intercept_scaling=1, l1_ratio=None, max_iter=100,\n",
      "                   multi_class='warn', n_jobs=None, penalty='l2',\n",
      "                   random_state=None, solver='warn', tol=0.0001, verbose=0,\n",
      "                   warm_start=False)\n",
      "0.9108521324962603\n"
     ]
    }
   ],
   "source": [
    "tuned_parameters = {'C': [10**-4, 10**-2, 10**0, 10**2, 10**4]}\n",
    "model1 = RandomizedSearchCV(LogisticRegression(), tuned_parameters, scoring = 'f1_weighted', cv=5, n_iter=3)\n",
    "model1.fit(X_train, y_train)\n",
    "\n",
    "print(model1.best_estimator_)\n",
    "print(model1.score(X_test, y_test))"
   ]
  },
  {
   "cell_type": "markdown",
   "metadata": {},
   "source": [
    "## LogisticRegression using L2 Regularization"
   ]
  },
  {
   "cell_type": "code",
   "execution_count": 30,
   "metadata": {},
   "outputs": [
    {
     "name": "stdout",
     "output_type": "stream",
     "text": [
      "\n",
      "The F1-Score for L2 Regularization is 91.085213%\n"
     ]
    }
   ],
   "source": [
    "clf = LogisticRegression(C=1, penalty='l2')\n",
    "clf.fit(X_train, y_train)\n",
    "pred = clf.predict(X_test)\n",
    "f1_value = f1_score(y_test, pred,average='weighted') * float(100)\n",
    "print('\\nThe F1-Score for L2 Regularization is %f%%' % (f1_value))"
   ]
  },
  {
   "cell_type": "code",
   "execution_count": 31,
   "metadata": {},
   "outputs": [
    {
     "name": "stdout",
     "output_type": "stream",
     "text": [
      "\n",
      "The F1-Score for L2 Regularization is 91.327572%\n"
     ]
    }
   ],
   "source": [
    "clf1 = LogisticRegression(C=1, penalty='l1')\n",
    "clf1.fit(X_train, y_train)\n",
    "pred = clf1.predict(X_test)\n",
    "f1_value = f1_score(y_test, pred,average='weighted') * float(100)\n",
    "print('\\nThe F1-Score for L2 Regularization is %f%%' % (f1_value))"
   ]
  },
  {
   "cell_type": "markdown",
   "metadata": {},
   "source": [
    "## Confusion matrix "
   ]
  },
  {
   "cell_type": "code",
   "execution_count": 32,
   "metadata": {},
   "outputs": [
    {
     "data": {
      "image/png": "[encoded data removed]",
      "text/plain": [
       "<Figure size 432x288 with 2 Axes>"
      ]
     },
     "metadata": {},
     "output_type": "display_data"
    }
   ],
   "source": [
    "array=confusion_matrix(y_test, pred )\n",
    "df_cm = pd.DataFrame(array, range(2),\n",
    "                  range(2))\n",
    "#plt.figure(figsize = (10,7))\n",
    "sns.set(font_scale=1.4)#for label size\n",
    "sns.heatmap(df_cm, annot=True,annot_kws={\"size\": 16}, fmt = 'g')\n",
    "plt.xlabel('Predicted')\n",
    "plt.ylabel('Actual')\n",
    "plt.show()"
   ]
  },
  {
   "cell_type": "markdown",
   "metadata": {},
   "source": [
    "## lambda vs error"
   ]
  },
  {
   "cell_type": "code",
   "execution_count": 33,
   "metadata": {},
   "outputs": [],
   "source": [
    "cv_scores = []\n",
    "\n",
    "for k in Lambdas:\n",
    "    clf1 = LogisticRegression(C=1/k, penalty='l2')\n",
    "     # fitting the model on crossvalidation train\n",
    "    clf1.fit(X_train, y_train)\n",
    "    # predict the response on the crossvalidation train\n",
    "    \n",
    "    pred = clf1.predict(X_cv)\n",
    "     # evaluate CV accuracy\n",
    "    f1_value = f1_score(y_cv, pred, average='weighted') * float(100)\n",
    "    cv_scores.append(f1_value)"
   ]
  },
  {
   "cell_type": "code",
   "execution_count": 34,
   "metadata": {},
   "outputs": [],
   "source": [
    "MSE = [100 - x for x in cv_scores]"
   ]
  },
  {
   "cell_type": "code",
   "execution_count": 35,
   "metadata": {},
   "outputs": [
    {
     "data": {
      "image/png": "[encoded data removed]",
      "text/plain": [
       "<Figure size 576x432 with 1 Axes>"
      ]
     },
     "metadata": {},
     "output_type": "display_data"
    }
   ],
   "source": [
    "plt.figure(figsize=(8,6))\n",
    "plt.plot(Lambdas, MSE)\n",
    "\n",
    "for xy in zip(Lambdas, np.round(MSE,3)):\n",
    "    plt.annotate('(%s, %s)' % xy, xy=xy, textcoords='data')\n",
    "\n",
    "plt.xlabel('Lambda Values')\n",
    "plt.ylabel('Misclassification Error')\n",
    "plt.show()"
   ]
  },
  {
   "cell_type": "code",
   "execution_count": 36,
   "metadata": {},
   "outputs": [
    {
     "name": "stdout",
     "output_type": "stream",
     "text": [
      "46146\n",
      "46146\n",
      "46146\n",
      "46146\n",
      "46146\n"
     ]
    }
   ],
   "source": [
    "Sparsity_scores = []\n",
    "\n",
    "   \n",
    "for k in Lambdas:\n",
    "    clf1 = LogisticRegression(C=1/k, penalty='l2')\n",
    "     # fitting the model on crossvalidation train\n",
    "    clf1.fit(X_train, y_train)\n",
    "    w = clf1.coef_\n",
    "    print(np.count_nonzero(w))\n",
    "    Sparsity_scores.append(np.count_nonzero(w))"
   ]
  },
  {
   "cell_type": "code",
   "execution_count": 37,
   "metadata": {},
   "outputs": [
    {
     "data": {
      "image/png": "[encoded data removed]",
      "text/plain": [
       "<Figure size 576x432 with 1 Axes>"
      ]
     },
     "metadata": {},
     "output_type": "display_data"
    }
   ],
   "source": [
    "plt.figure(figsize=(8,6))\n",
    "plt.plot(Lambdas, Sparsity_scores)\n",
    "\n",
    "for xy in zip(Lambdas, Sparsity_scores):\n",
    "    plt.annotate('(%s, %s)' % xy, xy=xy, textcoords='data')\n",
    "\n",
    "plt.xlabel('Lambda Values')\n",
    "plt.ylabel('Non-Zero Count')\n",
    "plt.show()"
   ]
  },
  {
   "cell_type": "markdown",
   "metadata": {},
   "source": [
    "## Feature Importance"
   ]
  },
  {
   "cell_type": "code",
   "execution_count": null,
   "metadata": {},
   "outputs": [],
   "source": [
    "clf = LogisticRegression(C=100, penalty='l1'); # Checking for multicollinearity through Pertubation test\n",
    "clf.fit(X_train, y_train);\n",
    "w = clf.coef_\n",
    "w"
   ]
  },
  {
   "cell_type": "code",
   "execution_count": null,
   "metadata": {},
   "outputs": [],
   "source": [
    "epsilon = np.random.normal(loc=0.0, scale=0.00000001)\n",
    "X_train.data = X_train.data + epsilon"
   ]
  },
  {
   "cell_type": "code",
   "execution_count": null,
   "metadata": {},
   "outputs": [],
   "source": [
    "clf1 = LogisticRegression(C=100, penalty='l1'); # Checking for multicollinearity through Pertubation test\n",
    "clf1.fit(X_train, y_train);\n",
    "w1 = clf1.coef_\n",
    "w1"
   ]
  },
  {
   "cell_type": "code",
   "execution_count": null,
   "metadata": {},
   "outputs": [],
   "source": [
    "w = w.tolist()\n",
    "w1 = w1.tolist()"
   ]
  },
  {
   "cell_type": "code",
   "execution_count": null,
   "metadata": {},
   "outputs": [],
   "source": [
    "percent_change=[-9999 if x == 0 else (((y - x) * 100)) for x, y in zip(w[0], w1[0])]"
   ]
  },
  {
   "cell_type": "code",
   "execution_count": null,
   "metadata": {},
   "outputs": [],
   "source": [
    "all_features = tf_idf_vect.get_feature_names()\n",
    "all_nd_features = np.array(all_features)"
   ]
  },
  {
   "cell_type": "code",
   "execution_count": null,
   "metadata": {},
   "outputs": [],
   "source": [
    "feature_dict=dict(zip(all_nd_features,percent_change))"
   ]
  },
  {
   "cell_type": "code",
   "execution_count": null,
   "metadata": {},
   "outputs": [],
   "source": [
    "features_dic = {k:v for k,v in feature_dict.items() if v != -9999}\n",
    "len(features_dic)"
   ]
  },
  {
   "cell_type": "code",
   "execution_count": null,
   "metadata": {},
   "outputs": [],
   "source": [
    "features_dict = {k:v for k,v in features_dic.items() if v <0.4}\n",
    "len(features_dict)"
   ]
  },
  {
   "cell_type": "code",
   "execution_count": null,
   "metadata": {},
   "outputs": [],
   "source": [
    "top_100_features=sorted(features_dict, key=features_dict.get, reverse=True)[:100]"
   ]
  },
  {
   "cell_type": "code",
   "execution_count": null,
   "metadata": {},
   "outputs": [],
   "source": [
    "word_could_dict=Counter(top_100_features)\n",
    "wordcloud = WordCloud(width = 1000, height = 500).generate_from_frequencies(word_could_dict)\n",
    "\n",
    "plt.figure(figsize=(15,8))\n",
    "plt.imshow(wordcloud)\n",
    "plt.axis(\"off\") \n",
    "plt.show()"
   ]
  },
  {
   "cell_type": "markdown",
   "metadata": {},
   "source": [
    "## Word2Vec "
   ]
  },
  {
   "cell_type": "code",
   "execution_count": 9,
   "metadata": {},
   "outputs": [],
   "source": [
    "from gensim.models import Word2Vec\n",
    "import math"
   ]
  },
  {
   "cell_type": "code",
   "execution_count": 10,
   "metadata": {},
   "outputs": [
    {
     "name": "stdout",
     "output_type": "stream",
     "text": [
      "(60000,) (60000,) (20000,) (20000,)\n"
     ]
    }
   ],
   "source": [
    "X_1 = X[:math.ceil(len(df)*0.8)]\n",
    "y_1 = y[:math.ceil(len(df)*0.8)]\n",
    "X_test = X[math.ceil(len(df)*0.8):]\n",
    "y_test = y[math.ceil(len(df)*0.8):]\n",
    "\n",
    "X_train = X_1[:math.ceil(len(df)*0.6)]\n",
    "y_train = y_1[:math.ceil(len(df)*0.6)]\n",
    "X_cv = X_1[math.ceil(len(df)*0.6):]\n",
    "y_cv = y_1[math.ceil(len(df)*0.6):]\n",
    "\n",
    "print(X_train.shape, y_train.shape, X_cv.shape, X_test.shape)"
   ]
  },
  {
   "cell_type": "code",
   "execution_count": 11,
   "metadata": {},
   "outputs": [],
   "source": [
    "list_of_sentence = []\n",
    "for sentence in X_train:\n",
    "    words = []\n",
    "    sentence = sentence.decode('utf-8')\n",
    "    sentence = cleanhtml(sentence)\n",
    "    for word in sentence.split():\n",
    "        word = cleanpunc(word)\n",
    "        if(word.isalpha()):    \n",
    "            words.append(word)\n",
    "        else:\n",
    "            continue \n",
    "    list_of_sentence.append(words)"
   ]
  },
  {
   "cell_type": "code",
   "execution_count": 12,
   "metadata": {},
   "outputs": [
    {
     "name": "stdout",
     "output_type": "stream",
     "text": [
      "[['bought', 'sever', 'vital', 'can', 'dog', 'food', 'product', 'found', 'good', 'qualiti', 'product', 'look', 'like', 'stew', 'process', 'meat', 'smell', 'better', 'labrador', 'finicki', 'appreci', 'product', 'better'], ['product', 'arriv', 'label', 'jumbo', 'salt', 'peanutsth', 'peanut', 'actual', 'small', 'size', 'unsalt', 'sure', 'error', 'vendor', 'intend', 'repres', 'product', 'jumbo'], ['confect', 'around', 'centuri', 'light', 'pillowi', 'citrus', 'gelatin', 'nut', 'case', 'filbert', 'cut', 'tini', 'squar', 'liber', 'coat', 'powder', 'sugar', 'tini', 'mouth', 'heaven', 'chewi', 'flavor', 'high', 'recommend', 'yummi', 'treat', 'familiar', 'stori', 'lewi', 'lion', 'witch', 'wardrob', 'treat', 'seduc', 'edmund', 'sell', 'brother', 'sister', 'witch'], ['look', 'secret', 'ingredi', 'robitussin', 'believ', 'found', 'got', 'addit', 'root', 'beer', 'extract', 'order', 'good', 'made', 'cherri', 'soda', 'flavor', 'medicin'], ['great', 'taffi', 'great', 'price', 'wide', 'assort', 'yummi', 'taffi', 'deliveri', 'quick', 'taffi', 'lover', 'deal']]\n"
     ]
    }
   ],
   "source": [
    "print(list_of_sentence[:5])"
   ]
  },
  {
   "cell_type": "code",
   "execution_count": 13,
   "metadata": {},
   "outputs": [
    {
     "data": {
      "text/plain": [
       "60000"
      ]
     },
     "execution_count": 13,
     "metadata": {},
     "output_type": "execute_result"
    }
   ],
   "source": [
    "len(list_of_sentence)"
   ]
  },
  {
   "cell_type": "code",
   "execution_count": 14,
   "metadata": {},
   "outputs": [],
   "source": [
    "w2v_model = gensim.models.Word2Vec(list_of_sentence, min_count = 5, size = 50, workers = 4)"
   ]
  },
  {
   "cell_type": "code",
   "execution_count": 15,
   "metadata": {},
   "outputs": [
    {
     "name": "stdout",
     "output_type": "stream",
     "text": [
      "<gensim.models.keyedvectors.Word2VecKeyedVectors object at 0x000001F1F5999240>\n"
     ]
    }
   ],
   "source": [
    "print(w2v_model.wv)"
   ]
  },
  {
   "cell_type": "code",
   "execution_count": 16,
   "metadata": {},
   "outputs": [],
   "source": [
    "w2v_vocab = list(w2v_model.wv.vocab)"
   ]
  },
  {
   "cell_type": "code",
   "execution_count": 17,
   "metadata": {},
   "outputs": [
    {
     "name": "stdout",
     "output_type": "stream",
     "text": [
      "['bought', 'sever', 'vital', 'can', 'dog', 'food', 'product', 'found', 'good', 'qualiti', 'look', 'like', 'stew', 'process', 'meat', 'smell', 'better', 'labrador', 'finicki', 'appreci', 'arriv', 'label', 'jumbo', 'salt', 'peanut', 'actual', 'small', 'size', 'unsalt', 'sure', 'error', 'vendor', 'intend', 'repres', 'confect', 'around', 'centuri', 'light', 'citrus', 'gelatin', 'nut', 'case', 'cut', 'tini', 'squar', 'liber', 'coat', 'powder', 'sugar', 'mouth']\n"
     ]
    }
   ],
   "source": [
    "print(w2v_vocab[:50])"
   ]
  },
  {
   "cell_type": "code",
   "execution_count": 18,
   "metadata": {},
   "outputs": [
    {
     "data": {
      "text/plain": [
       "[('dogswel', 0.875361442565918),\n",
       " ('venison', 0.8134377002716064),\n",
       " ('liver', 0.7846696376800537),\n",
       " ('senior', 0.7810736298561096),\n",
       " ('chondroitin', 0.7810376882553101),\n",
       " ('grainfre', 0.7765879034996033),\n",
       " ('duck', 0.7710288763046265),\n",
       " ('merrick', 0.7697089910507202),\n",
       " ('rabbit', 0.7652503252029419),\n",
       " ('fdas', 0.7578303813934326)]"
      ]
     },
     "execution_count": 18,
     "metadata": {},
     "output_type": "execute_result"
    }
   ],
   "source": [
    "w2v_model.wv.most_similar('vital')"
   ]
  },
  {
   "cell_type": "markdown",
   "metadata": {},
   "source": [
    "## Average Word2Vec "
   ]
  },
  {
   "cell_type": "code",
   "execution_count": 19,
   "metadata": {},
   "outputs": [
    {
     "name": "stderr",
     "output_type": "stream",
     "text": [
      "100%|███████████████████████████████████████████████████████████████████████████| 60000/60000 [04:42<00:00, 212.68it/s]\n"
     ]
    }
   ],
   "source": [
    "from tqdm import tqdm\n",
    "\n",
    "corpus_embedding = []\n",
    "for sentence in tqdm(X_train):\n",
    "#     print(sentence)\n",
    "#     break\n",
    "    sentence = sentence.decode('utf-8')\n",
    "    sentence_embedding = np.zeros(50)\n",
    "    count_words = 0\n",
    "    for word in sentence.split():\n",
    "        if word in w2v_vocab:\n",
    "            embedding = w2v_model.wv[word]\n",
    "            sentence_embedding += embedding\n",
    "            count_words += 1\n",
    "    if count_words != 0:\n",
    "        sentence_embedding /= count_words\n",
    "    corpus_embedding.append(sentence_embedding)"
   ]
  },
  {
   "cell_type": "code",
   "execution_count": 20,
   "metadata": {},
   "outputs": [
    {
     "name": "stdout",
     "output_type": "stream",
     "text": [
      "60000\n",
      "50\n"
     ]
    },
    {
     "data": {
      "text/plain": [
       "[array([-0.12485765, -0.20946853, -0.50281412, -0.27152861, -0.38271464,\n",
       "        -1.15413848, -0.50183553,  0.46895292,  0.91683702,  0.547806  ,\n",
       "        -0.05594523,  0.13048746,  0.56931209, -0.0403921 ,  0.29932111,\n",
       "         0.06919575, -0.25155262,  0.14542082, -0.03216714,  0.03741129,\n",
       "        -0.45387328,  0.69051582, -0.42724016, -0.10526204, -0.19309794,\n",
       "         0.12454579,  0.13154647, -0.02076082,  0.13861944, -0.35758834,\n",
       "         0.07213515, -0.79691985, -0.83368152,  0.91389558,  0.21184588,\n",
       "        -0.34482543, -0.25646842, -0.07389233,  0.57514942, -0.07723002,\n",
       "        -0.60265147, -0.26925374, -0.79526992,  0.15289285, -0.55785317,\n",
       "        -0.02749907,  1.10840098,  0.02418711, -0.18202871,  0.43179559]),\n",
       " array([ 0.29611859, -0.81455073, -0.18951612, -0.22182442, -1.00204599,\n",
       "        -0.31391356,  0.3963934 ,  0.41301988,  0.48171531,  0.24230132,\n",
       "         0.47007052,  0.22936792,  0.63439866,  0.46944355, -0.02297508,\n",
       "         0.63003729, -0.33088012, -0.43310354,  0.09090465, -0.35826259,\n",
       "        -0.32684347,  0.31927946, -0.41920113,  0.20367723, -0.24415069,\n",
       "         0.24074458,  0.60948954, -0.07757623,  0.29125137, -0.11700126,\n",
       "        -1.27217394,  0.0738962 , -0.15418303,  0.45111237,  0.0238504 ,\n",
       "        -0.04659901,  0.59415508, -0.06744534,  0.69902496,  0.2137087 ,\n",
       "        -0.119659  ,  0.74960952, -0.25533176, -0.10813938, -0.91862332,\n",
       "         0.10714627,  0.62388803,  0.04820411, -0.32113548, -0.3171101 ])]"
      ]
     },
     "execution_count": 20,
     "metadata": {},
     "output_type": "execute_result"
    }
   ],
   "source": [
    "print(len(corpus_embedding))\n",
    "print(len(corpus_embedding[0]))\n",
    "corpus_embedding[:2]"
   ]
  },
  {
   "cell_type": "code",
   "execution_count": 21,
   "metadata": {},
   "outputs": [
    {
     "name": "stderr",
     "output_type": "stream",
     "text": [
      "100%|███████████████████████████████████████████████████████████████████████████| 20000/20000 [01:20<00:00, 249.59it/s]\n"
     ]
    }
   ],
   "source": [
    "corpus_embedding_test = []\n",
    "for sentence in tqdm(X_test.values):\n",
    "    sentence = sentence.decode('utf-8')\n",
    "    sentence_embedding = np.zeros(50)\n",
    "    count_words = 0\n",
    "    for word in sentence.split():\n",
    "        if word in w2v_vocab:\n",
    "            embedding = w2v_model.wv[word]\n",
    "            sentence_embedding += embedding\n",
    "            count_words += 1\n",
    "    if count_words != 0:\n",
    "        sentence_embedding /= count_words\n",
    "    corpus_embedding_test.append(sentence_embedding)"
   ]
  },
  {
   "cell_type": "code",
   "execution_count": 22,
   "metadata": {},
   "outputs": [
    {
     "name": "stdout",
     "output_type": "stream",
     "text": [
      "20000\n",
      "50\n"
     ]
    },
    {
     "data": {
      "text/plain": [
       "[array([ 0.52978918, -1.08995356, -0.93258934,  0.09153159,  0.56114528,\n",
       "        -0.09933524,  0.2948155 ,  0.04054058,  0.0827764 , -0.48326617,\n",
       "         0.14506811, -0.69776554, -0.66835953, -1.09618263,  0.36339737,\n",
       "        -0.23981325, -0.63903351, -0.17812204,  0.21323988, -0.65693027,\n",
       "        -0.44107895, -0.06255757, -0.08687077,  0.06972815, -0.26888978,\n",
       "        -0.16073475,  0.24542041, -0.22955214, -0.31257711, -0.27003852,\n",
       "        -0.10664568, -0.23876004, -0.21317973, -0.0701289 , -0.51838882,\n",
       "        -0.28471235, -0.40671616,  0.37215072,  0.05802686, -0.04253519,\n",
       "        -0.6209703 , -0.16940574, -0.70865526,  0.32837739, -0.37805076,\n",
       "        -0.01186712,  1.02365741,  0.14308681,  0.53645391, -0.04088891]),\n",
       " array([-0.18737875, -0.80850782, -0.8868481 ,  0.15551187,  0.06289833,\n",
       "         0.04398868,  0.12021161, -0.39286492,  0.30453932,  0.11318382,\n",
       "         0.13318257, -0.03680606,  0.26437065, -0.63460314,  0.22150915,\n",
       "        -0.04560397, -0.7437811 ,  0.03381002,  0.19493395, -0.28190116,\n",
       "         0.33216733,  0.13252423, -0.31340477, -0.65577887, -0.25068483,\n",
       "         0.32778015,  0.34095196, -0.65783324, -0.08666544, -0.54262609,\n",
       "         0.0292609 , -0.44477731, -0.28253639,  0.04441031, -0.41645649,\n",
       "        -0.10878624, -0.3657078 , -0.05216526,  0.35670618,  0.12704954,\n",
       "        -0.56394952,  0.21370247, -0.83432798,  0.38515286, -0.41218434,\n",
       "         0.05932211,  0.88559447,  0.04248042,  0.73794941,  0.11224261])]"
      ]
     },
     "execution_count": 22,
     "metadata": {},
     "output_type": "execute_result"
    }
   ],
   "source": [
    "print(len(corpus_embedding_test))\n",
    "print(len(corpus_embedding_test[0]))\n",
    "corpus_embedding_test[:2]"
   ]
  },
  {
   "cell_type": "code",
   "execution_count": 23,
   "metadata": {},
   "outputs": [
    {
     "name": "stderr",
     "output_type": "stream",
     "text": [
      "100%|███████████████████████████████████████████████████████████████████████████| 20000/20000 [01:21<00:00, 245.57it/s]\n"
     ]
    }
   ],
   "source": [
    "corpus_embedding_cv = []\n",
    "for sentence in tqdm(X_cv.values):\n",
    "    sentence = sentence.decode('utf-8')\n",
    "    sentence_embedding = np.zeros(50)\n",
    "    count_words = 0\n",
    "    for word in sentence.split():\n",
    "        if word in w2v_vocab:\n",
    "            embedding = w2v_model.wv[word]\n",
    "            sentence_embedding += embedding\n",
    "            count_words += 1\n",
    "    if count_words != 0:\n",
    "        sentence_embedding /= count_words\n",
    "    corpus_embedding_cv.append(sentence_embedding)"
   ]
  },
  {
   "cell_type": "code",
   "execution_count": 24,
   "metadata": {},
   "outputs": [
    {
     "name": "stdout",
     "output_type": "stream",
     "text": [
      "20000\n",
      "50\n"
     ]
    },
    {
     "data": {
      "text/plain": [
       "[array([ 0.65579555, -0.11944762, -1.36235781, -0.82912964, -0.60921084,\n",
       "        -0.33329632,  0.45101467,  0.54716772,  0.53843194,  0.23816655,\n",
       "        -0.11195545,  0.65083386, -0.23019189, -0.65756898, -0.21678019,\n",
       "        -1.06668749,  0.73643121, -0.98655402, -0.68886056, -0.11996086,\n",
       "        -0.97912521, -0.47365586,  0.04731482,  0.74692253,  0.34535329,\n",
       "        -0.45372822,  0.45532876,  0.22219964,  0.38055029, -0.20535104,\n",
       "         0.03094273, -0.35049272, -0.21366218, -1.014781  ,  0.56110164,\n",
       "        -0.93397924, -0.40770859, -0.15950471,  0.4327053 ,  0.75002095,\n",
       "        -1.10739707,  0.43581824,  0.3597423 , -0.94217211, -0.18275373,\n",
       "        -0.75183912,  0.74277287, -1.06649303,  1.24138528,  0.39524694]),\n",
       " array([-0.35897096,  0.12793716, -0.83918417, -0.76022925,  0.25938764,\n",
       "        -0.32381201,  0.17117344,  0.67800735, -0.09597044,  0.00594894,\n",
       "         0.05303533,  0.37418468, -0.71223739, -0.98504025, -0.27402102,\n",
       "         0.09988434, -0.28289767, -0.26561079,  0.09882448, -0.4465816 ,\n",
       "        -0.41721109, -1.03420509,  0.65496557,  0.48884586, -0.39951397,\n",
       "        -0.44065966,  0.49146752,  0.46472227,  0.17213983, -0.40188497,\n",
       "        -0.05235217, -0.18702281, -0.03272382, -0.74720522, -0.13585943,\n",
       "        -0.27975785,  0.13977548,  0.92661947,  0.23935041,  0.4205147 ,\n",
       "        -0.9482559 , -0.16669417, -0.57216336, -0.32541654, -0.2294189 ,\n",
       "        -0.28355529,  0.25790005,  0.29471739,  0.67138236, -0.73181859])]"
      ]
     },
     "execution_count": 24,
     "metadata": {},
     "output_type": "execute_result"
    }
   ],
   "source": [
    "print(len(corpus_embedding_cv))\n",
    "print(len(corpus_embedding_cv[0]))\n",
    "corpus_embedding_cv[:2]"
   ]
  },
  {
   "cell_type": "code",
   "execution_count": 25,
   "metadata": {},
   "outputs": [],
   "source": [
    "X_train = corpus_embedding\n",
    "X_test = corpus_embedding_test\n",
    "X_CV = corpus_embedding_cv"
   ]
  },
  {
   "cell_type": "markdown",
   "metadata": {},
   "source": [
    "## Calculate 'Lambda' using GridSearchCV "
   ]
  },
  {
   "cell_type": "code",
   "execution_count": 27,
   "metadata": {},
   "outputs": [
    {
     "name": "stdout",
     "output_type": "stream",
     "text": [
      "LogisticRegression(C=100, class_weight=None, dual=False, fit_intercept=True,\n",
      "                   intercept_scaling=1, l1_ratio=None, max_iter=100,\n",
      "                   multi_class='warn', n_jobs=None, penalty='l2',\n",
      "                   random_state=None, solver='warn', tol=0.0001, verbose=0,\n",
      "                   warm_start=False)\n",
      "0.8832562057342288\n"
     ]
    }
   ],
   "source": [
    "tuned_parameters = [{'C': [10**-4, 10**-2, 10**0, 10**2, 10**4]}]\n",
    "model = GridSearchCV(LogisticRegression(), tuned_parameters, scoring = 'f1_weighted', cv=5)\n",
    "model.fit(X_train, y_train)\n",
    "\n",
    "print(model.best_estimator_)\n",
    "print(model.score(X_test, y_test))"
   ]
  },
  {
   "cell_type": "markdown",
   "metadata": {},
   "source": [
    "## Calculate 'Lambda' using RandomizedSearchCV "
   ]
  },
  {
   "cell_type": "code",
   "execution_count": 28,
   "metadata": {},
   "outputs": [
    {
     "name": "stdout",
     "output_type": "stream",
     "text": [
      "LogisticRegression(C=100, class_weight=None, dual=False, fit_intercept=True,\n",
      "                   intercept_scaling=1, l1_ratio=None, max_iter=100,\n",
      "                   multi_class='warn', n_jobs=None, penalty='l2',\n",
      "                   random_state=None, solver='warn', tol=0.0001, verbose=0,\n",
      "                   warm_start=False)\n",
      "0.8832562057342288\n"
     ]
    }
   ],
   "source": [
    "tuned_parameters = {'C': [10**-4, 10**-2, 10**0, 10**2, 10**4]}\n",
    "model1 = RandomizedSearchCV(LogisticRegression(), tuned_parameters, scoring = 'f1_weighted', cv=5, n_iter=3)\n",
    "model1.fit(X_train, y_train)\n",
    "\n",
    "print(model1.best_estimator_)\n",
    "print(model1.score(X_test, y_test))"
   ]
  },
  {
   "cell_type": "markdown",
   "metadata": {},
   "source": [
    "## LogisticRegression using L2 Regularization "
   ]
  },
  {
   "cell_type": "code",
   "execution_count": 29,
   "metadata": {},
   "outputs": [],
   "source": [
    "clf = LogisticRegression(C=1, penalty='l2')\n",
    "clf.fit(X_train, y_train)\n",
    "pred = clf.predict(X_test)"
   ]
  },
  {
   "cell_type": "code",
   "execution_count": 30,
   "metadata": {},
   "outputs": [
    {
     "name": "stdout",
     "output_type": "stream",
     "text": [
      "\n",
      "The F1-Score for L2 Regularization is 88.325646%\n"
     ]
    }
   ],
   "source": [
    "f1_value = f1_score(y_test, pred,average='weighted') * float(100)\n",
    "print('\\nThe F1-Score for L2 Regularization is %f%%' % (f1_value))"
   ]
  },
  {
   "cell_type": "markdown",
   "metadata": {},
   "source": [
    "## LogisticRegression using L1 Regularization "
   ]
  },
  {
   "cell_type": "code",
   "execution_count": 31,
   "metadata": {},
   "outputs": [],
   "source": [
    "clf1 = LogisticRegression(C=1, penalty='l1')\n",
    "clf1.fit(X_train, y_train)\n",
    "pred1 = clf1.predict(X_test)"
   ]
  },
  {
   "cell_type": "code",
   "execution_count": 32,
   "metadata": {},
   "outputs": [
    {
     "name": "stdout",
     "output_type": "stream",
     "text": [
      "\n",
      "The F1-Score for L1 Regularization is 88.304017%\n"
     ]
    }
   ],
   "source": [
    "f1_value = f1_score(y_test, pred1, average='weighted') * float(100)\n",
    "print('\\nThe F1-Score for L1 Regularization is %f%%' % (f1_value))"
   ]
  },
  {
   "cell_type": "markdown",
   "metadata": {},
   "source": [
    "## Confusion matrix "
   ]
  },
  {
   "cell_type": "code",
   "execution_count": 33,
   "metadata": {},
   "outputs": [],
   "source": [
    "array = confusion_matrix(y_test, pred)"
   ]
  },
  {
   "cell_type": "code",
   "execution_count": 34,
   "metadata": {},
   "outputs": [
    {
     "data": {
      "image/png": "[encoded data removed]",
      "text/plain": [
       "<Figure size 432x288 with 2 Axes>"
      ]
     },
     "metadata": {},
     "output_type": "display_data"
    }
   ],
   "source": [
    "df_cm = pd.DataFrame(array, range(2),\n",
    "                  range(2))\n",
    "#plt.figure(figsize = (10,7))\n",
    "sns.set(font_scale=1.4)#for label size\n",
    "sns.heatmap(df_cm, annot=True,annot_kws={\"size\": 16})\n",
    "plt.xlabel('Predicted')\n",
    "plt.ylabel('Actual')\n",
    "plt.show()"
   ]
  },
  {
   "cell_type": "code",
   "execution_count": 35,
   "metadata": {},
   "outputs": [],
   "source": [
    "Lambdas = [10**-4,10**-2,10**0,10**2,10**4]"
   ]
  },
  {
   "cell_type": "code",
   "execution_count": 36,
   "metadata": {},
   "outputs": [],
   "source": [
    "cv_scores = []\n",
    "   \n",
    "for k in Lambdas:\n",
    "    clf1 = LogisticRegression(C=1/k, penalty='l1')\n",
    "     # fitting the model on crossvalidation train\n",
    "    clf1.fit(X_train, y_train)\n",
    "    # predict the response on the crossvalidation train\n",
    "    \n",
    "    pred = clf1.predict(X_CV)\n",
    "     # evaluate CV accuracy\n",
    "    f1_value = f1_score(y_cv, pred, average='weighted') * float(100)\n",
    "    cv_scores.append(f1_value)"
   ]
  },
  {
   "cell_type": "code",
   "execution_count": 37,
   "metadata": {},
   "outputs": [
    {
     "data": {
      "text/plain": [
       "[12.631447017926973,\n",
       " 12.631447017926973,\n",
       " 12.631784762630332,\n",
       " 13.263687344474405,\n",
       " 23.26206705428463]"
      ]
     },
     "execution_count": 37,
     "metadata": {},
     "output_type": "execute_result"
    }
   ],
   "source": [
    "MSE = [100 - x for x in cv_scores]\n",
    "MSE"
   ]
  },
  {
   "cell_type": "code",
   "execution_count": 38,
   "metadata": {},
   "outputs": [
    {
     "data": {
      "image/png": "[encoded data removed]",
      "text/plain": [
       "<Figure size 576x432 with 1 Axes>"
      ]
     },
     "metadata": {},
     "output_type": "display_data"
    }
   ],
   "source": [
    "plt.figure(figsize=(8,6))\n",
    "plt.plot(Lambdas, MSE)\n",
    "\n",
    "for xy in zip(Lambdas, np.round(MSE,3)):\n",
    "    plt.annotate('(%s, %s)' % xy, xy=xy, textcoords='data')\n",
    "\n",
    "plt.xlabel('Lambda Values')\n",
    "plt.ylabel('Misclassification Error')\n",
    "plt.show()"
   ]
  },
  {
   "cell_type": "code",
   "execution_count": 40,
   "metadata": {},
   "outputs": [
    {
     "name": "stdout",
     "output_type": "stream",
     "text": [
      "50\n",
      "50\n",
      "50\n",
      "33\n",
      "0\n"
     ]
    }
   ],
   "source": [
    "Sparsity_Scores = []\n",
    "\n",
    "for k in Lambdas:\n",
    "    clf1 = LogisticRegression(C = 1/k, penalty = 'l1')\n",
    "    clf1.fit(X_train, y_train)\n",
    "    w = clf1.coef_\n",
    "    print(np.count_nonzero(w))\n",
    "    Sparsity_Scores.append(np.count_nonzero(w))"
   ]
  },
  {
   "cell_type": "code",
   "execution_count": 42,
   "metadata": {},
   "outputs": [
    {
     "data": {
      "image/png": "[encoded data removed]",
      "text/plain": [
       "<Figure size 576x432 with 1 Axes>"
      ]
     },
     "metadata": {},
     "output_type": "display_data"
    }
   ],
   "source": [
    "plt.figure(figsize=(8,6))\n",
    "plt.plot(Lambdas, Sparsity_Scores)\n",
    "\n",
    "for xy in zip(Lambdas, Sparsity_Scores):\n",
    "    plt.annotate('(%s, %s)' % xy, xy = xy, textcoords='data')\n",
    "\n",
    "plt.xlabel('Lambda Values')\n",
    "plt.ylabel('Non-Zero Count')\n",
    "plt.show()"
   ]
  },
  {
   "cell_type": "markdown",
   "metadata": {},
   "source": [
    "## Average Word2Vec with tf_idf "
   ]
  },
  {
   "cell_type": "code",
   "execution_count": 290,
   "metadata": {},
   "outputs": [],
   "source": [
    "from sklearn.feature_extraction.text import TfidfVectorizer\n",
    "model = TfidfVectorizer()\n",
    "\n",
    "tf_idf_matrix = model.fit_transform(X_train.values)\n",
    "dictionary = dict(zip(model.get_feature_names(), list(model.idf_)))"
   ]
  },
  {
   "cell_type": "code",
   "execution_count": 291,
   "metadata": {},
   "outputs": [
    {
     "name": "stderr",
     "output_type": "stream",
     "text": [
      "100%|██████████| 60000/60000 [01:49<00:00, 547.09it/s]\n"
     ]
    }
   ],
   "source": [
    "tfidf_embedding = []\n",
    "for sentence in tqdm(X_train):\n",
    "    sentence = sentence.decode('utf-8')\n",
    "    sentence_embedding = np.zeros(50)\n",
    "    weight_sum = 0\n",
    "    for word in sentence.split():\n",
    "        if word in w2v_vocab:\n",
    "            embedding = w2v_model.wv[word]\n",
    "            tf_idf = dictionary[word] * sentence.count(word)\n",
    "            sentence_embedding += (embedding * tf_idf)\n",
    "            weight_sum += tf_idf\n",
    "    if weight_sum != 0:\n",
    "        sentence_embedding /= weight_sum\n",
    "    tfidf_embedding.append(sentence_embedding)"
   ]
  },
  {
   "cell_type": "code",
   "execution_count": 292,
   "metadata": {},
   "outputs": [
    {
     "data": {
      "text/plain": [
       "[array([ 0.49783587,  0.12231475, -0.12560517,  0.36890145,  0.19909141,\n",
       "        -0.40510795, -0.28291334, -0.18040224,  0.23266884, -0.47090244,\n",
       "         0.4803518 ,  0.22619316, -0.29317434,  0.02209257,  0.08068267,\n",
       "        -0.29437718,  0.05540543,  0.17686955, -0.13521102, -0.12169355,\n",
       "        -0.36893002, -0.56393425,  0.63908845, -0.07714613, -0.30687754,\n",
       "         0.08690704, -0.29011346,  0.18253315, -0.88322875, -0.49945644,\n",
       "        -0.32704492, -1.01306613,  0.06844313,  0.36794265, -0.20144012,\n",
       "        -0.54565518, -0.28555346,  0.37439441,  0.83892591, -0.52325959,\n",
       "         0.60660107, -0.03196828,  0.01574486, -0.5170446 , -0.53218022,\n",
       "         0.37927397,  1.00704537, -0.5859586 ,  0.8077709 ,  0.03277443])]"
      ]
     },
     "execution_count": 292,
     "metadata": {},
     "output_type": "execute_result"
    }
   ],
   "source": [
    "tfidf_embedding[:1]"
   ]
  },
  {
   "cell_type": "code",
   "execution_count": 293,
   "metadata": {},
   "outputs": [
    {
     "name": "stderr",
     "output_type": "stream",
     "text": [
      "100%|██████████| 20000/20000 [00:35<00:00, 560.64it/s]\n"
     ]
    }
   ],
   "source": [
    "tfidf_embedding_test = []\n",
    "for sentence in tqdm(X_test):\n",
    "    sentence = sentence.decode('utf-8')\n",
    "    sentence_embedding = np.zeros(50)\n",
    "    weight_sum = 0\n",
    "    for word in sentence.split():\n",
    "        if word in w2v_vocab:\n",
    "            embedding = w2v_model.wv[word]\n",
    "            tf_idf = dictionary[word] * sentence.count(word)\n",
    "            sentence_embedding += (embedding * tf_idf)\n",
    "            weight_sum += tf_idf\n",
    "    if weight_sum != 0:\n",
    "        sentence_embedding /= weight_sum\n",
    "    tfidf_embedding_test.append(sentence_embedding)"
   ]
  },
  {
   "cell_type": "code",
   "execution_count": 294,
   "metadata": {},
   "outputs": [
    {
     "data": {
      "text/plain": [
       "[array([ 0.25171986,  0.23622187, -0.76169539,  0.68036085, -0.56270203,\n",
       "        -0.207025  ,  0.99290651,  0.51128945, -0.49077345,  0.25647373,\n",
       "        -0.42178422,  0.50763507,  0.57167984,  0.27064421, -0.01302953,\n",
       "         0.15699311, -0.83758979, -0.00754108,  0.62960362, -0.47149934,\n",
       "         0.07118557,  0.37806763,  0.48500558,  0.11890137, -0.56241435,\n",
       "         0.38334651, -0.66468657, -0.2712106 , -0.32648738, -0.1279903 ,\n",
       "        -0.07356892, -0.10431867, -0.01893302,  0.64409424, -0.27912134,\n",
       "        -0.64605565,  0.39366062,  0.22463009, -0.43928205,  0.13364965,\n",
       "         0.09099705, -0.50904631, -0.13208658, -0.49465468,  0.24093296,\n",
       "        -0.13767485,  0.68397224,  0.13954011,  1.21340579, -0.01779093])]"
      ]
     },
     "execution_count": 294,
     "metadata": {},
     "output_type": "execute_result"
    }
   ],
   "source": [
    "tfidf_embedding_test[:1]"
   ]
  },
  {
   "cell_type": "code",
   "execution_count": 295,
   "metadata": {},
   "outputs": [
    {
     "name": "stderr",
     "output_type": "stream",
     "text": [
      "100%|██████████| 20000/20000 [00:38<00:00, 526.00it/s]\n"
     ]
    }
   ],
   "source": [
    "tfidf_embedding_cv = []\n",
    "for sentence in tqdm(X_cv):\n",
    "    sentence = sentence.decode('utf-8')\n",
    "    sentence_embedding = np.zeros(50)\n",
    "    weight_sum = 0\n",
    "    for word in sentence.split():\n",
    "        if word in w2v_vocab:\n",
    "            embedding = w2v_model.wv[word]\n",
    "            tf_idf = dictionary[word] * sentence.count(word)\n",
    "            sentence_embedding += (embedding * tf_idf)\n",
    "            weight_sum += tf_idf\n",
    "    if weight_sum != 0:\n",
    "        sentence_embedding /= weight_sum\n",
    "    tfidf_embedding_cv.append(sentence_embedding)"
   ]
  },
  {
   "cell_type": "code",
   "execution_count": 296,
   "metadata": {},
   "outputs": [
    {
     "data": {
      "text/plain": [
       "[array([-0.70055491,  0.23255103,  0.20840896,  0.22608537, -0.46473457,\n",
       "         0.46686146, -0.09497256, -0.2967896 , -0.37357113,  0.55676659,\n",
       "        -0.48692695,  0.94216948, -1.79095767, -0.53577616,  0.66806717,\n",
       "         0.58600075,  0.4351291 ,  0.33036784,  0.95311044, -0.26563092,\n",
       "        -0.35177702,  0.8849274 , -0.42681981, -0.70409937, -1.95830514,\n",
       "        -0.46036565,  0.0285272 ,  0.62639581,  0.52375936, -0.27434186,\n",
       "        -0.93943526,  0.33869912, -1.86096169,  0.3231114 ,  0.55746352,\n",
       "         0.75543446,  0.95196995,  1.46532887,  0.19842415, -0.09156518,\n",
       "         0.68453445, -1.08542465,  0.13417033, -0.12654752,  0.62075355,\n",
       "         0.32465316,  1.17428756, -0.91031479,  1.5900295 ,  0.42382099])]"
      ]
     },
     "execution_count": 296,
     "metadata": {},
     "output_type": "execute_result"
    }
   ],
   "source": [
    "tfidf_embedding_cv[:1]"
   ]
  },
  {
   "cell_type": "code",
   "execution_count": null,
   "metadata": {},
   "outputs": [],
   "source": [
    "X_train = tfidf_embedding\n",
    "X_test = tfidf_embedding_test\n",
    "X_CV = tfidf_embedding_cv"
   ]
  },
  {
   "cell_type": "markdown",
   "metadata": {},
   "source": [
    "## Calculate 'Lambda' using GridSearchCV"
   ]
  },
  {
   "cell_type": "code",
   "execution_count": null,
   "metadata": {},
   "outputs": [],
   "source": [
    "tuned_parameters = [{'C': [10**-4, 10**-2, 10**0, 10**2, 10**4]}]\n",
    "model = GridSearchCV(LogisticRegression(), tuned_parameters, scoring = 'f1_weighted', cv=5)\n",
    "model.fit(X_train, y_train)\n",
    "\n",
    "print(model.best_estimator_)\n",
    "print(model.score(X_test, y_test))"
   ]
  },
  {
   "cell_type": "markdown",
   "metadata": {},
   "source": [
    "## Calculate 'Lambda' using RandomizedSearchCV "
   ]
  },
  {
   "cell_type": "code",
   "execution_count": null,
   "metadata": {},
   "outputs": [],
   "source": [
    "tuned_parameters = {'C': [10**-4, 10**-2, 10**0, 10**2, 10**4]}\n",
    "model1 = RandomizedSearchCV(LogisticRegression(), tuned_parameters, scoring = 'f1_weighted', cv=5, n_iter=3)\n",
    "model1.fit(X_train, y_train)\n",
    "\n",
    "print(model1.best_estimator_)\n",
    "print(model1.score(X_test, y_test))"
   ]
  },
  {
   "cell_type": "markdown",
   "metadata": {},
   "source": [
    "## LogisticRegression using L2 Regularization"
   ]
  },
  {
   "cell_type": "code",
   "execution_count": null,
   "metadata": {},
   "outputs": [],
   "source": [
    "clf = LogisticRegression(C=100, penalty='l2')\n",
    "clf.fit(X_train, y_train)\n",
    "pred = clf.predict(X_test)\n",
    "f1_value = f1_score(y_test, pred,average='weighted') * float(100)\n",
    "print('\\nThe F1-Score for L2 Regularization is %f%%' % (f1_value))"
   ]
  },
  {
   "cell_type": "markdown",
   "metadata": {},
   "source": [
    "## LogisticRegression using L1 Regularization "
   ]
  },
  {
   "cell_type": "code",
   "execution_count": null,
   "metadata": {},
   "outputs": [],
   "source": [
    "clf1 = LogisticRegression(C=100, penalty='l1')\n",
    "clf1.fit(X_train, y_train)\n",
    "pred1 = clf1.predict(X_test)\n",
    "f1_value = f1_score(y_test, pred1,average='weighted') * float(100)\n",
    "print('\\nThe F1-Score for L1 Regularization is %f%%' % (f1_value))"
   ]
  },
  {
   "cell_type": "markdown",
   "metadata": {},
   "source": [
    "## Confusion matrix "
   ]
  },
  {
   "cell_type": "code",
   "execution_count": null,
   "metadata": {},
   "outputs": [],
   "source": [
    "array=confusion_matrix(y_test, pred1 )\n",
    "df_cm = pd.DataFrame(array, range(2),\n",
    "                  range(2))\n",
    "#plt.figure(figsize = (10,7))\n",
    "sns.set(font_scale=1.4)#for label size\n",
    "sns.heatmap(df_cm, annot=True,annot_kws={\"size\": 16})\n",
    "plt.xlabel('Predicted')\n",
    "plt.ylabel('Actual')\n",
    "plt.show()"
   ]
  },
  {
   "cell_type": "markdown",
   "metadata": {},
   "source": [
    "## lambda vs error and sparsity "
   ]
  },
  {
   "cell_type": "code",
   "execution_count": null,
   "metadata": {},
   "outputs": [],
   "source": [
    "cv_scores = []\n",
    "Sparsity_scores=[]\n",
    "   \n",
    "for k in Lambdas:\n",
    "    clf1 = LogisticRegression(C=1/k, penalty='l1')\n",
    "     # fitting the model on crossvalidation train\n",
    "    clf1.fit(X_train, y_train)\n",
    "    # predict the response on the crossvalidation train\n",
    "    \n",
    "    pred = clf1.predict(X_CV)\n",
    "     # evaluate CV accuracy\n",
    "    f1_value = f1_score(y_CV, pred, average='weighted') * float(100)\n",
    "    cv_scores.append(f1_value)\n",
    "    w = clf1.coef_\n",
    "    print(np.count_nonzero(w))\n",
    "    Sparsity_scores.append(np.count_nonzero(w))"
   ]
  },
  {
   "cell_type": "code",
   "execution_count": null,
   "metadata": {},
   "outputs": [],
   "source": [
    "MSE = [100 - x for x in cv_scores]"
   ]
  },
  {
   "cell_type": "code",
   "execution_count": null,
   "metadata": {},
   "outputs": [],
   "source": [
    "plt.figure(figsize=(8,6))\n",
    "plt.plot(Lambdas, MSE)\n",
    "\n",
    "for xy in zip(Lambdas, np.round(MSE,3)):\n",
    "    plt.annotate('(%s, %s)' % xy, xy=xy, textcoords='data')\n",
    "\n",
    "plt.xlabel('Lambda Values')\n",
    "plt.ylabel('Misclassification Error')\n",
    "plt.show()"
   ]
  },
  {
   "cell_type": "code",
   "execution_count": null,
   "metadata": {},
   "outputs": [],
   "source": [
    "plt.figure(figsize=(8,6))\n",
    "plt.plot(Lambdas,  Sparsity_scores)\n",
    "\n",
    "for xy in zip(Lambdas, ( Sparsity_scores)):\n",
    "    plt.annotate('(%s, %s)' % xy, xy=xy, textcoords='data')\n",
    "\n",
    "plt.xlabel('Lambda Values')\n",
    "plt.ylabel('No of non-sparsity values ')\n",
    "plt.show()"
   ]
  },
  {
   "cell_type": "code",
   "execution_count": null,
   "metadata": {},
   "outputs": [],
   "source": []
  }
 ],
 "metadata": {
  "kernelspec": {
   "display_name": "Python 3",
   "language": "python",
   "name": "python3"
  },
  "language_info": {
   "codemirror_mode": {
    "name": "ipython",
    "version": 3
   },
   "file_extension": ".py",
   "mimetype": "text/x-python",
   "name": "python",
   "nbconvert_exporter": "python",
   "pygments_lexer": "ipython3",
   "version": "3.7.3"
  }
 },
 "nbformat": 4,
 "nbformat_minor": 4
}
